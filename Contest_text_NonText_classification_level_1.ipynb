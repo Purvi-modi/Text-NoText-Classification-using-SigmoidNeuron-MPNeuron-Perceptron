{
  "nbformat": 4,
  "nbformat_minor": 0,
  "metadata": {
    "colab": {
      "name": "Contest_text_NonText_classification_level_1.ipynb",
      "version": "0.3.2",
      "provenance": [],
      "collapsed_sections": [
        "oy1IM5qwkTP2",
        "KyRq51N5Paif",
        "iWyPmnsRcMRb",
        "TKUo6KRTkXQ4",
        "6zSRyOOOr6Lx",
        "WTUHY5PssA9b",
        "WHC8ZBpHYVGP"
      ],
      "toc_visible": true
    },
    "kernelspec": {
      "name": "python3",
      "display_name": "Python 3"
    }
  },
  "cells": [
    {
      "metadata": {
        "id": "jtgAwDAekxxS",
        "colab_type": "code",
        "colab": {}
      },
      "cell_type": "code",
      "source": [
        "import matplotlib.pyplot as plt"
      ],
      "execution_count": 0,
      "outputs": []
    },
    {
      "metadata": {
        "id": "oy1IM5qwkTP2",
        "colab_type": "text"
      },
      "cell_type": "markdown",
      "source": [
        "# Reading Train-Test zip files from google drive"
      ]
    },
    {
      "metadata": {
        "id": "lo6BuGMarotM",
        "colab_type": "code",
        "outputId": "4f1d8d90-5d1f-4fb4-d8a7-966bd37ea0ec",
        "colab": {
          "base_uri": "https://localhost:8080/",
          "height": 54
        }
      },
      "cell_type": "code",
      "source": [
        "from google.colab import drive\n",
        "drive.mount('/content/gdrive')"
      ],
      "execution_count": 0,
      "outputs": [
        {
          "output_type": "stream",
          "text": [
            "Drive already mounted at /content/gdrive; to attempt to forcibly remount, call drive.mount(\"/content/gdrive\", force_remount=True).\n"
          ],
          "name": "stdout"
        }
      ]
    },
    {
      "metadata": {
        "id": "tXRW8JqBuG2B",
        "colab_type": "code",
        "outputId": "8cfb2949-7e7a-41b0-c373-8f3ef8370353",
        "colab": {
          "base_uri": "https://localhost:8080/",
          "height": 15769
        }
      },
      "cell_type": "code",
      "source": [
        "!unzip \"/content/gdrive/My Drive/dataset_train.zip\""
      ],
      "execution_count": 0,
      "outputs": [
        {
          "output_type": "stream",
          "text": [
            "Archive:  /content/gdrive/My Drive/dataset_train.zip\n",
            "   creating: dataset_train/\n",
            "   creating: dataset_train/level_1/\n",
            "   creating: dataset_train/level_1/ta/\n",
            " extracting: dataset_train/level_1/ta/c70_127.jpg  \n",
            " extracting: dataset_train/level_1/ta/c38_126.jpg  \n",
            " extracting: dataset_train/level_1/ta/c90_125.jpg  \n",
            " extracting: dataset_train/level_1/ta/c48_124.jpg  \n",
            " extracting: dataset_train/level_1/ta/c85_123.jpg  \n",
            " extracting: dataset_train/level_1/ta/c21_122.jpg  \n",
            " extracting: dataset_train/level_1/ta/c8_121.jpg  \n",
            " extracting: dataset_train/level_1/ta/c15_120.jpg  \n",
            " extracting: dataset_train/level_1/ta/c92_119.jpg  \n",
            " extracting: dataset_train/level_1/ta/c25_118.jpg  \n",
            " extracting: dataset_train/level_1/ta/c78_117.jpg  \n",
            " extracting: dataset_train/level_1/ta/c62_116.jpg  \n",
            " extracting: dataset_train/level_1/ta/c88_115.jpg  \n",
            " extracting: dataset_train/level_1/ta/c55_114.jpg  \n",
            " extracting: dataset_train/level_1/ta/c4_113.jpg  \n",
            " extracting: dataset_train/level_1/ta/c34_112.jpg  \n",
            " extracting: dataset_train/level_1/ta/c90_111.jpg  \n",
            " extracting: dataset_train/level_1/ta/c92_110.jpg  \n",
            " extracting: dataset_train/level_1/ta/c40_109.jpg  \n",
            " extracting: dataset_train/level_1/ta/c12_108.jpg  \n",
            " extracting: dataset_train/level_1/ta/c33_107.jpg  \n",
            " extracting: dataset_train/level_1/ta/c74_106.jpg  \n",
            " extracting: dataset_train/level_1/ta/c42_105.jpg  \n",
            " extracting: dataset_train/level_1/ta/c65_104.jpg  \n",
            " extracting: dataset_train/level_1/ta/c55_103.jpg  \n",
            " extracting: dataset_train/level_1/ta/c10_102.jpg  \n",
            " extracting: dataset_train/level_1/ta/c38_101.jpg  \n",
            " extracting: dataset_train/level_1/ta/c33_100.jpg  \n",
            " extracting: dataset_train/level_1/ta/c55_99.jpg  \n",
            " extracting: dataset_train/level_1/ta/c31_98.jpg  \n",
            " extracting: dataset_train/level_1/ta/c23_97.jpg  \n",
            " extracting: dataset_train/level_1/ta/c41_96.jpg  \n",
            " extracting: dataset_train/level_1/ta/c60_95.jpg  \n",
            " extracting: dataset_train/level_1/ta/c47_94.jpg  \n",
            " extracting: dataset_train/level_1/ta/c42_93.jpg  \n",
            " extracting: dataset_train/level_1/ta/c39_92.jpg  \n",
            " extracting: dataset_train/level_1/ta/c67_91.jpg  \n",
            " extracting: dataset_train/level_1/ta/c20_90.jpg  \n",
            " extracting: dataset_train/level_1/ta/c0_89.jpg  \n",
            " extracting: dataset_train/level_1/ta/c16_88.jpg  \n",
            " extracting: dataset_train/level_1/ta/c64_87.jpg  \n",
            " extracting: dataset_train/level_1/ta/c81_86.jpg  \n",
            " extracting: dataset_train/level_1/ta/c25_85.jpg  \n",
            " extracting: dataset_train/level_1/ta/c6_84.jpg  \n",
            " extracting: dataset_train/level_1/ta/c53_83.jpg  \n",
            " extracting: dataset_train/level_1/ta/c33_82.jpg  \n",
            " extracting: dataset_train/level_1/ta/c55_81.jpg  \n",
            " extracting: dataset_train/level_1/ta/c8_80.jpg  \n",
            " extracting: dataset_train/level_1/ta/c94_79.jpg  \n",
            " extracting: dataset_train/level_1/ta/c16_78.jpg  \n",
            " extracting: dataset_train/level_1/ta/c68_77.jpg  \n",
            " extracting: dataset_train/level_1/ta/c57_76.jpg  \n",
            " extracting: dataset_train/level_1/ta/c81_75.jpg  \n",
            " extracting: dataset_train/level_1/ta/c76_74.jpg  \n",
            " extracting: dataset_train/level_1/ta/c3_73.jpg  \n",
            " extracting: dataset_train/level_1/ta/c37_72.jpg  \n",
            " extracting: dataset_train/level_1/ta/c41_71.jpg  \n",
            " extracting: dataset_train/level_1/ta/c76_70.jpg  \n",
            " extracting: dataset_train/level_1/ta/c25_69.jpg  \n",
            " extracting: dataset_train/level_1/ta/c34_68.jpg  \n",
            " extracting: dataset_train/level_1/ta/c86_67.jpg  \n",
            " extracting: dataset_train/level_1/ta/c26_66.jpg  \n",
            " extracting: dataset_train/level_1/ta/c36_65.jpg  \n",
            " extracting: dataset_train/level_1/ta/c18_64.jpg  \n",
            " extracting: dataset_train/level_1/ta/c62_63.jpg  \n",
            " extracting: dataset_train/level_1/ta/c22_62.jpg  \n",
            " extracting: dataset_train/level_1/ta/c65_61.jpg  \n",
            " extracting: dataset_train/level_1/ta/c73_60.jpg  \n",
            " extracting: dataset_train/level_1/ta/c13_59.jpg  \n",
            " extracting: dataset_train/level_1/ta/c76_58.jpg  \n",
            " extracting: dataset_train/level_1/ta/c64_57.jpg  \n",
            " extracting: dataset_train/level_1/ta/c55_56.jpg  \n",
            " extracting: dataset_train/level_1/ta/c26_55.jpg  \n",
            " extracting: dataset_train/level_1/ta/c89_54.jpg  \n",
            " extracting: dataset_train/level_1/ta/c61_53.jpg  \n",
            " extracting: dataset_train/level_1/ta/c30_52.jpg  \n",
            " extracting: dataset_train/level_1/ta/c52_51.jpg  \n",
            " extracting: dataset_train/level_1/ta/c2_50.jpg  \n",
            " extracting: dataset_train/level_1/ta/c54_49.jpg  \n",
            " extracting: dataset_train/level_1/ta/c81_48.jpg  \n",
            " extracting: dataset_train/level_1/ta/c69_47.jpg  \n",
            " extracting: dataset_train/level_1/ta/c79_46.jpg  \n",
            " extracting: dataset_train/level_1/ta/c70_45.jpg  \n",
            " extracting: dataset_train/level_1/ta/c93_44.jpg  \n",
            " extracting: dataset_train/level_1/ta/c88_43.jpg  \n",
            " extracting: dataset_train/level_1/ta/c80_42.jpg  \n",
            " extracting: dataset_train/level_1/ta/c59_41.jpg  \n",
            " extracting: dataset_train/level_1/ta/c17_40.jpg  \n",
            " extracting: dataset_train/level_1/ta/c21_39.jpg  \n",
            " extracting: dataset_train/level_1/ta/c4_38.jpg  \n",
            " extracting: dataset_train/level_1/ta/c83_37.jpg  \n",
            " extracting: dataset_train/level_1/ta/c75_36.jpg  \n",
            " extracting: dataset_train/level_1/ta/c2_35.jpg  \n",
            " extracting: dataset_train/level_1/ta/c59_34.jpg  \n",
            " extracting: dataset_train/level_1/ta/c0_33.jpg  \n",
            " extracting: dataset_train/level_1/ta/c22_32.jpg  \n",
            " extracting: dataset_train/level_1/ta/c71_31.jpg  \n",
            " extracting: dataset_train/level_1/ta/c13_30.jpg  \n",
            " extracting: dataset_train/level_1/ta/c11_29.jpg  \n",
            " extracting: dataset_train/level_1/ta/c71_28.jpg  \n",
            " extracting: dataset_train/level_1/ta/c79_27.jpg  \n",
            " extracting: dataset_train/level_1/ta/c22_26.jpg  \n",
            " extracting: dataset_train/level_1/ta/c83_25.jpg  \n",
            " extracting: dataset_train/level_1/ta/c77_24.jpg  \n",
            " extracting: dataset_train/level_1/ta/c94_23.jpg  \n",
            " extracting: dataset_train/level_1/ta/c69_22.jpg  \n",
            " extracting: dataset_train/level_1/ta/c24_21.jpg  \n",
            " extracting: dataset_train/level_1/ta/c77_20.jpg  \n",
            " extracting: dataset_train/level_1/ta/c87_19.jpg  \n",
            " extracting: dataset_train/level_1/ta/c68_18.jpg  \n",
            " extracting: dataset_train/level_1/ta/c82_17.jpg  \n",
            " extracting: dataset_train/level_1/ta/c63_16.jpg  \n",
            " extracting: dataset_train/level_1/ta/c2_15.jpg  \n",
            " extracting: dataset_train/level_1/ta/c46_14.jpg  \n",
            " extracting: dataset_train/level_1/ta/c22_13.jpg  \n",
            " extracting: dataset_train/level_1/ta/c18_12.jpg  \n",
            " extracting: dataset_train/level_1/ta/c0_11.jpg  \n",
            " extracting: dataset_train/level_1/ta/c27_10.jpg  \n",
            " extracting: dataset_train/level_1/ta/c8_9.jpg  \n",
            " extracting: dataset_train/level_1/ta/c34_8.jpg  \n",
            " extracting: dataset_train/level_1/ta/c26_7.jpg  \n",
            " extracting: dataset_train/level_1/ta/c10_6.jpg  \n",
            " extracting: dataset_train/level_1/ta/c21_5.jpg  \n",
            " extracting: dataset_train/level_1/ta/c32_4.jpg  \n",
            " extracting: dataset_train/level_1/ta/c69_3.jpg  \n",
            " extracting: dataset_train/level_1/ta/c61_2.jpg  \n",
            " extracting: dataset_train/level_1/ta/c17_1.jpg  \n",
            " extracting: dataset_train/level_1/ta/c36_0.jpg  \n",
            " extracting: dataset_train/level_1/ta/c17_149.jpg  \n",
            " extracting: dataset_train/level_1/ta/c66_148.jpg  \n",
            " extracting: dataset_train/level_1/ta/c2_147.jpg  \n",
            " extracting: dataset_train/level_1/ta/c78_146.jpg  \n",
            " extracting: dataset_train/level_1/ta/c49_145.jpg  \n",
            " extracting: dataset_train/level_1/ta/c0_144.jpg  \n",
            " extracting: dataset_train/level_1/ta/c51_143.jpg  \n",
            " extracting: dataset_train/level_1/ta/c2_142.jpg  \n",
            " extracting: dataset_train/level_1/ta/c53_141.jpg  \n",
            " extracting: dataset_train/level_1/ta/c92_140.jpg  \n",
            " extracting: dataset_train/level_1/ta/c30_139.jpg  \n",
            " extracting: dataset_train/level_1/ta/c61_138.jpg  \n",
            " extracting: dataset_train/level_1/ta/c90_137.jpg  \n",
            " extracting: dataset_train/level_1/ta/c56_136.jpg  \n",
            " extracting: dataset_train/level_1/ta/c30_135.jpg  \n",
            " extracting: dataset_train/level_1/ta/c79_134.jpg  \n",
            " extracting: dataset_train/level_1/ta/c36_133.jpg  \n",
            " extracting: dataset_train/level_1/ta/c71_132.jpg  \n",
            " extracting: dataset_train/level_1/ta/c45_131.jpg  \n",
            " extracting: dataset_train/level_1/ta/c51_130.jpg  \n",
            " extracting: dataset_train/level_1/ta/c28_129.jpg  \n",
            " extracting: dataset_train/level_1/ta/c11_128.jpg  \n",
            "   creating: dataset_train/level_1/hi/\n",
            " extracting: dataset_train/level_1/hi/c5_127.jpg  \n",
            " extracting: dataset_train/level_1/hi/c6_126.jpg  \n",
            " extracting: dataset_train/level_1/hi/c5_125.jpg  \n",
            " extracting: dataset_train/level_1/hi/c9_124.jpg  \n",
            " extracting: dataset_train/level_1/hi/c2_123.jpg  \n",
            " extracting: dataset_train/level_1/hi/c9_122.jpg  \n",
            " extracting: dataset_train/level_1/hi/c4_121.jpg  \n",
            " extracting: dataset_train/level_1/hi/c9_120.jpg  \n",
            " extracting: dataset_train/level_1/hi/c0_119.jpg  \n",
            " extracting: dataset_train/level_1/hi/c11_118.jpg  \n",
            " extracting: dataset_train/level_1/hi/c1_117.jpg  \n",
            " extracting: dataset_train/level_1/hi/c8_116.jpg  \n",
            " extracting: dataset_train/level_1/hi/c10_115.jpg  \n",
            " extracting: dataset_train/level_1/hi/c6_114.jpg  \n",
            " extracting: dataset_train/level_1/hi/c9_113.jpg  \n",
            " extracting: dataset_train/level_1/hi/c7_112.jpg  \n",
            " extracting: dataset_train/level_1/hi/c9_111.jpg  \n",
            " extracting: dataset_train/level_1/hi/c0_110.jpg  \n",
            " extracting: dataset_train/level_1/hi/c4_109.jpg  \n",
            " extracting: dataset_train/level_1/hi/c9_108.jpg  \n",
            " extracting: dataset_train/level_1/hi/c6_107.jpg  \n",
            " extracting: dataset_train/level_1/hi/c8_106.jpg  \n",
            " extracting: dataset_train/level_1/hi/c11_105.jpg  \n",
            " extracting: dataset_train/level_1/hi/c1_104.jpg  \n",
            " extracting: dataset_train/level_1/hi/c5_103.jpg  \n",
            " extracting: dataset_train/level_1/hi/c1_102.jpg  \n",
            " extracting: dataset_train/level_1/hi/c10_101.jpg  \n",
            " extracting: dataset_train/level_1/hi/c6_100.jpg  \n",
            " extracting: dataset_train/level_1/hi/c0_99.jpg  \n",
            " extracting: dataset_train/level_1/hi/c2_98.jpg  \n",
            " extracting: dataset_train/level_1/hi/c8_97.jpg  \n",
            " extracting: dataset_train/level_1/hi/c7_96.jpg  \n",
            " extracting: dataset_train/level_1/hi/c4_95.jpg  \n",
            " extracting: dataset_train/level_1/hi/c1_94.jpg  \n",
            " extracting: dataset_train/level_1/hi/c6_93.jpg  \n",
            " extracting: dataset_train/level_1/hi/c10_92.jpg  \n",
            " extracting: dataset_train/level_1/hi/c11_91.jpg  \n",
            " extracting: dataset_train/level_1/hi/c0_90.jpg  \n",
            " extracting: dataset_train/level_1/hi/c9_89.jpg  \n",
            " extracting: dataset_train/level_1/hi/c5_88.jpg  \n",
            " extracting: dataset_train/level_1/hi/c1_87.jpg  \n",
            " extracting: dataset_train/level_1/hi/c9_86.jpg  \n",
            " extracting: dataset_train/level_1/hi/c8_85.jpg  \n",
            " extracting: dataset_train/level_1/hi/c11_84.jpg  \n",
            " extracting: dataset_train/level_1/hi/c11_83.jpg  \n",
            " extracting: dataset_train/level_1/hi/c4_82.jpg  \n",
            " extracting: dataset_train/level_1/hi/c6_81.jpg  \n",
            " extracting: dataset_train/level_1/hi/c11_80.jpg  \n",
            " extracting: dataset_train/level_1/hi/c5_79.jpg  \n",
            " extracting: dataset_train/level_1/hi/c0_78.jpg  \n",
            " extracting: dataset_train/level_1/hi/c8_77.jpg  \n",
            " extracting: dataset_train/level_1/hi/c2_76.jpg  \n",
            " extracting: dataset_train/level_1/hi/c3_75.jpg  \n",
            " extracting: dataset_train/level_1/hi/c5_74.jpg  \n",
            " extracting: dataset_train/level_1/hi/c9_73.jpg  \n",
            " extracting: dataset_train/level_1/hi/c10_72.jpg  \n",
            " extracting: dataset_train/level_1/hi/c4_71.jpg  \n",
            " extracting: dataset_train/level_1/hi/c4_70.jpg  \n",
            " extracting: dataset_train/level_1/hi/c5_69.jpg  \n",
            " extracting: dataset_train/level_1/hi/c3_68.jpg  \n",
            " extracting: dataset_train/level_1/hi/c5_67.jpg  \n",
            " extracting: dataset_train/level_1/hi/c1_66.jpg  \n",
            " extracting: dataset_train/level_1/hi/c10_65.jpg  \n",
            " extracting: dataset_train/level_1/hi/c10_64.jpg  \n",
            " extracting: dataset_train/level_1/hi/c10_63.jpg  \n",
            " extracting: dataset_train/level_1/hi/c10_62.jpg  \n",
            " extracting: dataset_train/level_1/hi/c5_61.jpg  \n",
            " extracting: dataset_train/level_1/hi/c2_60.jpg  \n",
            " extracting: dataset_train/level_1/hi/c8_59.jpg  \n",
            " extracting: dataset_train/level_1/hi/c6_58.jpg  \n",
            " extracting: dataset_train/level_1/hi/c5_57.jpg  \n",
            " extracting: dataset_train/level_1/hi/c7_56.jpg  \n",
            " extracting: dataset_train/level_1/hi/c2_55.jpg  \n",
            " extracting: dataset_train/level_1/hi/c10_54.jpg  \n",
            " extracting: dataset_train/level_1/hi/c11_53.jpg  \n",
            " extracting: dataset_train/level_1/hi/c2_52.jpg  \n",
            " extracting: dataset_train/level_1/hi/c1_51.jpg  \n",
            " extracting: dataset_train/level_1/hi/c7_50.jpg  \n",
            " extracting: dataset_train/level_1/hi/c3_49.jpg  \n",
            " extracting: dataset_train/level_1/hi/c10_48.jpg  \n",
            " extracting: dataset_train/level_1/hi/c7_47.jpg  \n",
            " extracting: dataset_train/level_1/hi/c8_46.jpg  \n",
            " extracting: dataset_train/level_1/hi/c6_45.jpg  \n",
            " extracting: dataset_train/level_1/hi/c2_44.jpg  \n",
            " extracting: dataset_train/level_1/hi/c1_43.jpg  \n",
            " extracting: dataset_train/level_1/hi/c11_42.jpg  \n",
            " extracting: dataset_train/level_1/hi/c11_41.jpg  \n",
            " extracting: dataset_train/level_1/hi/c5_40.jpg  \n",
            " extracting: dataset_train/level_1/hi/c0_39.jpg  \n",
            " extracting: dataset_train/level_1/hi/c3_38.jpg  \n",
            " extracting: dataset_train/level_1/hi/c6_37.jpg  \n",
            " extracting: dataset_train/level_1/hi/c6_36.jpg  \n",
            " extracting: dataset_train/level_1/hi/c3_35.jpg  \n",
            " extracting: dataset_train/level_1/hi/c7_34.jpg  \n",
            " extracting: dataset_train/level_1/hi/c5_33.jpg  \n",
            " extracting: dataset_train/level_1/hi/c9_32.jpg  \n",
            " extracting: dataset_train/level_1/hi/c6_31.jpg  \n",
            " extracting: dataset_train/level_1/hi/c9_30.jpg  \n",
            " extracting: dataset_train/level_1/hi/c0_29.jpg  \n",
            " extracting: dataset_train/level_1/hi/c2_28.jpg  \n",
            " extracting: dataset_train/level_1/hi/c0_27.jpg  \n",
            " extracting: dataset_train/level_1/hi/c11_26.jpg  \n",
            " extracting: dataset_train/level_1/hi/c11_25.jpg  \n",
            " extracting: dataset_train/level_1/hi/c7_24.jpg  \n",
            " extracting: dataset_train/level_1/hi/c0_23.jpg  \n",
            " extracting: dataset_train/level_1/hi/c7_22.jpg  \n",
            " extracting: dataset_train/level_1/hi/c9_21.jpg  \n",
            " extracting: dataset_train/level_1/hi/c7_20.jpg  \n",
            " extracting: dataset_train/level_1/hi/c0_19.jpg  \n",
            " extracting: dataset_train/level_1/hi/c1_18.jpg  \n",
            " extracting: dataset_train/level_1/hi/c4_17.jpg  \n",
            " extracting: dataset_train/level_1/hi/c0_16.jpg  \n",
            " extracting: dataset_train/level_1/hi/c11_15.jpg  \n",
            " extracting: dataset_train/level_1/hi/c3_14.jpg  \n",
            " extracting: dataset_train/level_1/hi/c7_13.jpg  \n",
            " extracting: dataset_train/level_1/hi/c11_12.jpg  \n",
            " extracting: dataset_train/level_1/hi/c0_11.jpg  \n",
            " extracting: dataset_train/level_1/hi/c2_10.jpg  \n",
            " extracting: dataset_train/level_1/hi/c0_9.jpg  \n",
            " extracting: dataset_train/level_1/hi/c2_8.jpg  \n",
            " extracting: dataset_train/level_1/hi/c1_7.jpg  \n",
            " extracting: dataset_train/level_1/hi/c3_6.jpg  \n",
            " extracting: dataset_train/level_1/hi/c6_5.jpg  \n",
            " extracting: dataset_train/level_1/hi/c7_4.jpg  \n",
            " extracting: dataset_train/level_1/hi/c3_3.jpg  \n",
            " extracting: dataset_train/level_1/hi/c4_2.jpg  \n",
            " extracting: dataset_train/level_1/hi/c7_1.jpg  \n",
            " extracting: dataset_train/level_1/hi/c3_0.jpg  \n",
            " extracting: dataset_train/level_1/hi/c2_149.jpg  \n",
            " extracting: dataset_train/level_1/hi/c9_148.jpg  \n",
            " extracting: dataset_train/level_1/hi/c8_147.jpg  \n",
            " extracting: dataset_train/level_1/hi/c8_146.jpg  \n",
            " extracting: dataset_train/level_1/hi/c6_145.jpg  \n",
            " extracting: dataset_train/level_1/hi/c1_144.jpg  \n",
            " extracting: dataset_train/level_1/hi/c11_143.jpg  \n",
            " extracting: dataset_train/level_1/hi/c3_142.jpg  \n",
            " extracting: dataset_train/level_1/hi/c7_141.jpg  \n",
            " extracting: dataset_train/level_1/hi/c10_140.jpg  \n",
            " extracting: dataset_train/level_1/hi/c6_139.jpg  \n",
            " extracting: dataset_train/level_1/hi/c2_138.jpg  \n",
            " extracting: dataset_train/level_1/hi/c10_137.jpg  \n",
            " extracting: dataset_train/level_1/hi/c9_136.jpg  \n",
            " extracting: dataset_train/level_1/hi/c4_135.jpg  \n",
            " extracting: dataset_train/level_1/hi/c9_134.jpg  \n",
            " extracting: dataset_train/level_1/hi/c6_133.jpg  \n",
            " extracting: dataset_train/level_1/hi/c0_132.jpg  \n",
            " extracting: dataset_train/level_1/hi/c5_131.jpg  \n",
            " extracting: dataset_train/level_1/hi/c6_130.jpg  \n",
            " extracting: dataset_train/level_1/hi/c8_129.jpg  \n",
            " extracting: dataset_train/level_1/hi/c10_128.jpg  \n",
            "   creating: dataset_train/level_1/en/\n",
            "  inflating: dataset_train/level_1/en/c15_127.jpg  \n",
            " extracting: dataset_train/level_1/en/c35_126.jpg  \n",
            " extracting: dataset_train/level_1/en/c1_125.jpg  \n",
            " extracting: dataset_train/level_1/en/c47_124.jpg  \n",
            " extracting: dataset_train/level_1/en/c9_123.jpg  \n",
            " extracting: dataset_train/level_1/en/c43_122.jpg  \n",
            " extracting: dataset_train/level_1/en/c14_121.jpg  \n",
            " extracting: dataset_train/level_1/en/c51_120.jpg  \n",
            " extracting: dataset_train/level_1/en/c17_119.jpg  \n",
            " extracting: dataset_train/level_1/en/c12_118.jpg  \n",
            " extracting: dataset_train/level_1/en/c30_117.jpg  \n",
            " extracting: dataset_train/level_1/en/c17_116.jpg  \n",
            " extracting: dataset_train/level_1/en/c18_115.jpg  \n",
            " extracting: dataset_train/level_1/en/c14_114.jpg  \n",
            " extracting: dataset_train/level_1/en/c49_113.jpg  \n",
            " extracting: dataset_train/level_1/en/c26_112.jpg  \n",
            "  inflating: dataset_train/level_1/en/c13_111.jpg  \n",
            " extracting: dataset_train/level_1/en/c18_110.jpg  \n",
            " extracting: dataset_train/level_1/en/c21_109.jpg  \n",
            " extracting: dataset_train/level_1/en/c6_108.jpg  \n",
            " extracting: dataset_train/level_1/en/c2_107.jpg  \n",
            " extracting: dataset_train/level_1/en/c4_106.jpg  \n",
            " extracting: dataset_train/level_1/en/c19_105.jpg  \n",
            " extracting: dataset_train/level_1/en/c32_104.jpg  \n",
            " extracting: dataset_train/level_1/en/c17_103.jpg  \n",
            " extracting: dataset_train/level_1/en/c41_102.jpg  \n",
            " extracting: dataset_train/level_1/en/c20_101.jpg  \n",
            "  inflating: dataset_train/level_1/en/c13_100.jpg  \n",
            " extracting: dataset_train/level_1/en/c37_99.jpg  \n",
            " extracting: dataset_train/level_1/en/c30_98.jpg  \n",
            " extracting: dataset_train/level_1/en/c13_97.jpg  \n",
            " extracting: dataset_train/level_1/en/c16_96.jpg  \n",
            " extracting: dataset_train/level_1/en/c36_95.jpg  \n",
            " extracting: dataset_train/level_1/en/c16_94.jpg  \n",
            " extracting: dataset_train/level_1/en/c8_93.jpg  \n",
            " extracting: dataset_train/level_1/en/c38_92.jpg  \n",
            " extracting: dataset_train/level_1/en/c34_91.jpg  \n",
            "  inflating: dataset_train/level_1/en/c18_90.jpg  \n",
            " extracting: dataset_train/level_1/en/c21_89.jpg  \n",
            " extracting: dataset_train/level_1/en/c15_88.jpg  \n",
            " extracting: dataset_train/level_1/en/c50_87.jpg  \n",
            " extracting: dataset_train/level_1/en/c34_86.jpg  \n",
            " extracting: dataset_train/level_1/en/c32_85.jpg  \n",
            " extracting: dataset_train/level_1/en/c33_84.jpg  \n",
            " extracting: dataset_train/level_1/en/c47_83.jpg  \n",
            " extracting: dataset_train/level_1/en/c16_82.jpg  \n",
            " extracting: dataset_train/level_1/en/c51_81.jpg  \n",
            " extracting: dataset_train/level_1/en/c5_80.jpg  \n",
            " extracting: dataset_train/level_1/en/c36_79.jpg  \n",
            " extracting: dataset_train/level_1/en/c48_78.jpg  \n",
            " extracting: dataset_train/level_1/en/c23_77.jpg  \n",
            " extracting: dataset_train/level_1/en/c22_76.jpg  \n",
            " extracting: dataset_train/level_1/en/c31_75.jpg  \n",
            " extracting: dataset_train/level_1/en/c7_74.jpg  \n",
            " extracting: dataset_train/level_1/en/c0_73.jpg  \n",
            " extracting: dataset_train/level_1/en/c42_72.jpg  \n",
            " extracting: dataset_train/level_1/en/c17_71.jpg  \n",
            " extracting: dataset_train/level_1/en/c0_70.jpg  \n",
            " extracting: dataset_train/level_1/en/c7_69.jpg  \n",
            " extracting: dataset_train/level_1/en/c44_68.jpg  \n",
            " extracting: dataset_train/level_1/en/c12_67.jpg  \n",
            " extracting: dataset_train/level_1/en/c48_66.jpg  \n",
            " extracting: dataset_train/level_1/en/c25_65.jpg  \n",
            " extracting: dataset_train/level_1/en/c51_64.jpg  \n",
            "  inflating: dataset_train/level_1/en/c22_63.jpg  \n",
            " extracting: dataset_train/level_1/en/c32_62.jpg  \n",
            " extracting: dataset_train/level_1/en/c14_61.jpg  \n",
            " extracting: dataset_train/level_1/en/c47_60.jpg  \n",
            " extracting: dataset_train/level_1/en/c2_59.jpg  \n",
            " extracting: dataset_train/level_1/en/c15_58.jpg  \n",
            " extracting: dataset_train/level_1/en/c26_57.jpg  \n",
            " extracting: dataset_train/level_1/en/c42_56.jpg  \n",
            " extracting: dataset_train/level_1/en/c19_55.jpg  \n",
            " extracting: dataset_train/level_1/en/c34_54.jpg  \n",
            " extracting: dataset_train/level_1/en/c24_53.jpg  \n",
            " extracting: dataset_train/level_1/en/c36_52.jpg  \n",
            " extracting: dataset_train/level_1/en/c45_51.jpg  \n",
            " extracting: dataset_train/level_1/en/c14_50.jpg  \n",
            " extracting: dataset_train/level_1/en/c46_49.jpg  \n",
            " extracting: dataset_train/level_1/en/c14_48.jpg  \n",
            " extracting: dataset_train/level_1/en/c49_47.jpg  \n",
            " extracting: dataset_train/level_1/en/c36_46.jpg  \n",
            " extracting: dataset_train/level_1/en/c21_45.jpg  \n",
            " extracting: dataset_train/level_1/en/c41_44.jpg  \n",
            " extracting: dataset_train/level_1/en/c37_43.jpg  \n",
            " extracting: dataset_train/level_1/en/c40_42.jpg  \n",
            " extracting: dataset_train/level_1/en/c29_41.jpg  \n",
            " extracting: dataset_train/level_1/en/c16_40.jpg  \n",
            " extracting: dataset_train/level_1/en/c12_39.jpg  \n",
            " extracting: dataset_train/level_1/en/c38_38.jpg  \n",
            "  inflating: dataset_train/level_1/en/c18_37.jpg  \n",
            " extracting: dataset_train/level_1/en/c41_36.jpg  \n",
            " extracting: dataset_train/level_1/en/c51_35.jpg  \n",
            " extracting: dataset_train/level_1/en/c10_34.jpg  \n",
            " extracting: dataset_train/level_1/en/c32_33.jpg  \n",
            " extracting: dataset_train/level_1/en/c44_32.jpg  \n",
            " extracting: dataset_train/level_1/en/c46_31.jpg  \n",
            " extracting: dataset_train/level_1/en/c26_30.jpg  \n",
            " extracting: dataset_train/level_1/en/c32_29.jpg  \n",
            " extracting: dataset_train/level_1/en/c48_28.jpg  \n",
            " extracting: dataset_train/level_1/en/c38_27.jpg  \n",
            "  inflating: dataset_train/level_1/en/c4_26.jpg  \n",
            " extracting: dataset_train/level_1/en/c36_25.jpg  \n",
            " extracting: dataset_train/level_1/en/c28_24.jpg  \n",
            " extracting: dataset_train/level_1/en/c4_23.jpg  \n",
            " extracting: dataset_train/level_1/en/c2_22.jpg  \n",
            " extracting: dataset_train/level_1/en/c27_21.jpg  \n",
            " extracting: dataset_train/level_1/en/c12_20.jpg  \n",
            " extracting: dataset_train/level_1/en/c51_19.jpg  \n",
            " extracting: dataset_train/level_1/en/c43_18.jpg  \n",
            "  inflating: dataset_train/level_1/en/c25_17.jpg  \n",
            " extracting: dataset_train/level_1/en/c15_16.jpg  \n",
            " extracting: dataset_train/level_1/en/c28_15.jpg  \n",
            " extracting: dataset_train/level_1/en/c8_14.jpg  \n",
            " extracting: dataset_train/level_1/en/c0_13.jpg  \n",
            " extracting: dataset_train/level_1/en/c43_12.jpg  \n",
            " extracting: dataset_train/level_1/en/c32_11.jpg  \n",
            " extracting: dataset_train/level_1/en/c16_10.jpg  \n",
            " extracting: dataset_train/level_1/en/c50_9.jpg  \n",
            " extracting: dataset_train/level_1/en/c33_8.jpg  \n",
            " extracting: dataset_train/level_1/en/c3_7.jpg  \n",
            " extracting: dataset_train/level_1/en/c44_6.jpg  \n",
            " extracting: dataset_train/level_1/en/c8_5.jpg  \n",
            " extracting: dataset_train/level_1/en/c7_4.jpg  \n",
            " extracting: dataset_train/level_1/en/c2_3.jpg  \n",
            " extracting: dataset_train/level_1/en/c27_2.jpg  \n",
            " extracting: dataset_train/level_1/en/c37_1.jpg  \n",
            " extracting: dataset_train/level_1/en/c45_0.jpg  \n",
            " extracting: dataset_train/level_1/en/c11_149.jpg  \n",
            " extracting: dataset_train/level_1/en/c41_148.jpg  \n",
            " extracting: dataset_train/level_1/en/c50_147.jpg  \n",
            " extracting: dataset_train/level_1/en/c34_146.jpg  \n",
            " extracting: dataset_train/level_1/en/c25_145.jpg  \n",
            " extracting: dataset_train/level_1/en/c47_144.jpg  \n",
            " extracting: dataset_train/level_1/en/c21_143.jpg  \n",
            " extracting: dataset_train/level_1/en/c33_142.jpg  \n",
            " extracting: dataset_train/level_1/en/c37_141.jpg  \n",
            " extracting: dataset_train/level_1/en/c23_140.jpg  \n",
            " extracting: dataset_train/level_1/en/c27_139.jpg  \n",
            " extracting: dataset_train/level_1/en/c28_138.jpg  \n",
            " extracting: dataset_train/level_1/en/c45_137.jpg  \n",
            " extracting: dataset_train/level_1/en/c35_136.jpg  \n",
            " extracting: dataset_train/level_1/en/c27_135.jpg  \n",
            " extracting: dataset_train/level_1/en/c31_134.jpg  \n",
            " extracting: dataset_train/level_1/en/c21_133.jpg  \n",
            " extracting: dataset_train/level_1/en/c7_132.jpg  \n",
            " extracting: dataset_train/level_1/en/c45_131.jpg  \n",
            " extracting: dataset_train/level_1/en/c10_130.jpg  \n",
            " extracting: dataset_train/level_1/en/c43_129.jpg  \n",
            " extracting: dataset_train/level_1/en/c12_128.jpg  \n",
            "   creating: dataset_train/level_1/background/\n",
            "  inflating: dataset_train/level_1/background/127.jpg  \n",
            "  inflating: dataset_train/level_1/background/126.jpg  \n",
            "  inflating: dataset_train/level_1/background/125.jpg  \n",
            "  inflating: dataset_train/level_1/background/124.jpg  \n",
            "  inflating: dataset_train/level_1/background/123.jpg  \n",
            "  inflating: dataset_train/level_1/background/122.jpg  \n",
            "  inflating: dataset_train/level_1/background/121.jpg  \n",
            "  inflating: dataset_train/level_1/background/120.jpg  \n",
            "  inflating: dataset_train/level_1/background/119.jpg  \n",
            "  inflating: dataset_train/level_1/background/118.jpg  \n",
            "  inflating: dataset_train/level_1/background/117.jpg  \n",
            "  inflating: dataset_train/level_1/background/116.jpg  \n",
            "  inflating: dataset_train/level_1/background/115.jpg  \n",
            "  inflating: dataset_train/level_1/background/114.jpg  \n",
            "  inflating: dataset_train/level_1/background/113.jpg  \n",
            "  inflating: dataset_train/level_1/background/112.jpg  \n",
            "  inflating: dataset_train/level_1/background/111.jpg  \n",
            "  inflating: dataset_train/level_1/background/110.jpg  \n",
            "  inflating: dataset_train/level_1/background/109.jpg  \n",
            "  inflating: dataset_train/level_1/background/108.jpg  \n",
            "  inflating: dataset_train/level_1/background/107.jpg  \n",
            "  inflating: dataset_train/level_1/background/106.jpg  \n",
            "  inflating: dataset_train/level_1/background/105.jpg  \n",
            "  inflating: dataset_train/level_1/background/104.jpg  \n",
            "  inflating: dataset_train/level_1/background/103.jpg  \n",
            "  inflating: dataset_train/level_1/background/102.jpg  \n",
            "  inflating: dataset_train/level_1/background/101.jpg  \n",
            "  inflating: dataset_train/level_1/background/100.jpg  \n",
            "  inflating: dataset_train/level_1/background/99.jpg  \n",
            "  inflating: dataset_train/level_1/background/98.jpg  \n",
            "  inflating: dataset_train/level_1/background/97.jpg  \n",
            "  inflating: dataset_train/level_1/background/96.jpg  \n",
            "  inflating: dataset_train/level_1/background/95.jpg  \n",
            "  inflating: dataset_train/level_1/background/94.jpg  \n",
            "  inflating: dataset_train/level_1/background/93.jpg  \n",
            "  inflating: dataset_train/level_1/background/92.jpg  \n",
            "  inflating: dataset_train/level_1/background/91.jpg  \n",
            "  inflating: dataset_train/level_1/background/90.jpg  \n",
            "  inflating: dataset_train/level_1/background/89.jpg  \n",
            "  inflating: dataset_train/level_1/background/88.jpg  \n",
            "  inflating: dataset_train/level_1/background/87.jpg  \n",
            "  inflating: dataset_train/level_1/background/86.jpg  \n",
            "  inflating: dataset_train/level_1/background/85.jpg  \n",
            "  inflating: dataset_train/level_1/background/84.jpg  \n",
            "  inflating: dataset_train/level_1/background/83.jpg  \n",
            "  inflating: dataset_train/level_1/background/82.jpg  \n",
            "  inflating: dataset_train/level_1/background/81.jpg  \n",
            "  inflating: dataset_train/level_1/background/80.jpg  \n",
            "  inflating: dataset_train/level_1/background/79.jpg  \n",
            "  inflating: dataset_train/level_1/background/78.jpg  \n",
            "  inflating: dataset_train/level_1/background/77.jpg  \n",
            "  inflating: dataset_train/level_1/background/76.jpg  \n",
            "  inflating: dataset_train/level_1/background/75.jpg  \n",
            "  inflating: dataset_train/level_1/background/74.jpg  \n",
            "  inflating: dataset_train/level_1/background/73.jpg  \n",
            "  inflating: dataset_train/level_1/background/72.jpg  \n",
            "  inflating: dataset_train/level_1/background/71.jpg  \n",
            "  inflating: dataset_train/level_1/background/70.jpg  \n",
            "  inflating: dataset_train/level_1/background/69.jpg  \n",
            "  inflating: dataset_train/level_1/background/68.jpg  \n",
            "  inflating: dataset_train/level_1/background/67.jpg  \n",
            "  inflating: dataset_train/level_1/background/66.jpg  \n",
            "  inflating: dataset_train/level_1/background/65.jpg  \n",
            "  inflating: dataset_train/level_1/background/64.jpg  \n",
            "  inflating: dataset_train/level_1/background/63.jpg  \n",
            "  inflating: dataset_train/level_1/background/62.jpg  \n",
            "  inflating: dataset_train/level_1/background/61.jpg  \n",
            "  inflating: dataset_train/level_1/background/60.jpg  \n",
            "  inflating: dataset_train/level_1/background/59.jpg  \n",
            "  inflating: dataset_train/level_1/background/58.jpg  \n",
            "  inflating: dataset_train/level_1/background/57.jpg  \n",
            "  inflating: dataset_train/level_1/background/56.jpg  \n",
            "  inflating: dataset_train/level_1/background/55.jpg  \n",
            "  inflating: dataset_train/level_1/background/54.jpg  \n",
            "  inflating: dataset_train/level_1/background/53.jpg  \n",
            "  inflating: dataset_train/level_1/background/52.jpg  \n",
            "  inflating: dataset_train/level_1/background/51.jpg  \n",
            "  inflating: dataset_train/level_1/background/50.jpg  \n",
            "  inflating: dataset_train/level_1/background/49.jpg  \n",
            "  inflating: dataset_train/level_1/background/48.jpg  \n",
            "  inflating: dataset_train/level_1/background/47.jpg  \n",
            "  inflating: dataset_train/level_1/background/46.jpg  \n",
            "  inflating: dataset_train/level_1/background/45.jpg  \n",
            "  inflating: dataset_train/level_1/background/44.jpg  \n",
            "  inflating: dataset_train/level_1/background/43.jpg  \n",
            "  inflating: dataset_train/level_1/background/42.jpg  \n",
            "  inflating: dataset_train/level_1/background/41.jpg  \n",
            "  inflating: dataset_train/level_1/background/40.jpg  \n",
            "  inflating: dataset_train/level_1/background/39.jpg  \n",
            "  inflating: dataset_train/level_1/background/38.jpg  \n",
            "  inflating: dataset_train/level_1/background/37.jpg  \n",
            "  inflating: dataset_train/level_1/background/36.jpg  \n",
            "  inflating: dataset_train/level_1/background/35.jpg  \n",
            "  inflating: dataset_train/level_1/background/34.jpg  \n",
            "  inflating: dataset_train/level_1/background/33.jpg  \n",
            "  inflating: dataset_train/level_1/background/32.jpg  \n",
            "  inflating: dataset_train/level_1/background/31.jpg  \n",
            "  inflating: dataset_train/level_1/background/30.jpg  \n",
            "  inflating: dataset_train/level_1/background/29.jpg  \n",
            "  inflating: dataset_train/level_1/background/28.jpg  \n",
            "  inflating: dataset_train/level_1/background/27.jpg  \n",
            "  inflating: dataset_train/level_1/background/26.jpg  \n",
            "  inflating: dataset_train/level_1/background/25.jpg  \n",
            "  inflating: dataset_train/level_1/background/24.jpg  \n",
            "  inflating: dataset_train/level_1/background/23.jpg  \n",
            "  inflating: dataset_train/level_1/background/22.jpg  \n",
            "  inflating: dataset_train/level_1/background/21.jpg  \n",
            "  inflating: dataset_train/level_1/background/20.jpg  \n",
            "  inflating: dataset_train/level_1/background/19.jpg  \n",
            "  inflating: dataset_train/level_1/background/18.jpg  \n",
            "  inflating: dataset_train/level_1/background/17.jpg  \n",
            "  inflating: dataset_train/level_1/background/16.jpg  \n",
            "  inflating: dataset_train/level_1/background/15.jpg  \n",
            "  inflating: dataset_train/level_1/background/14.jpg  \n",
            "  inflating: dataset_train/level_1/background/13.jpg  \n",
            "  inflating: dataset_train/level_1/background/12.jpg  \n",
            "  inflating: dataset_train/level_1/background/11.jpg  \n",
            "  inflating: dataset_train/level_1/background/10.jpg  \n",
            "  inflating: dataset_train/level_1/background/9.jpg  \n",
            "  inflating: dataset_train/level_1/background/8.jpg  \n",
            "  inflating: dataset_train/level_1/background/7.jpg  \n",
            "  inflating: dataset_train/level_1/background/6.jpg  \n",
            "  inflating: dataset_train/level_1/background/5.jpg  \n",
            "  inflating: dataset_train/level_1/background/4.jpg  \n",
            "  inflating: dataset_train/level_1/background/3.jpg  \n",
            "  inflating: dataset_train/level_1/background/2.jpg  \n",
            "  inflating: dataset_train/level_1/background/1.jpg  \n",
            "  inflating: dataset_train/level_1/background/0.jpg  \n",
            "  inflating: dataset_train/level_1/background/58_d3.jpg  \n",
            "  inflating: dataset_train/level_1/background/58_d2.jpg  \n",
            "  inflating: dataset_train/level_1/background/57_d3.jpg  \n",
            "  inflating: dataset_train/level_1/background/57_d2.jpg  \n",
            "  inflating: dataset_train/level_1/background/56_d3.jpg  \n",
            "  inflating: dataset_train/level_1/background/56_d2.jpg  \n",
            "  inflating: dataset_train/level_1/background/55_d3.jpg  \n",
            "  inflating: dataset_train/level_1/background/55_d2.jpg  \n",
            "  inflating: dataset_train/level_1/background/54_d3.jpg  \n",
            "  inflating: dataset_train/level_1/background/54_d2.jpg  \n",
            "  inflating: dataset_train/level_1/background/53_d3.jpg  \n",
            "  inflating: dataset_train/level_1/background/53_d2.jpg  \n",
            "  inflating: dataset_train/level_1/background/52_d3.jpg  \n",
            "  inflating: dataset_train/level_1/background/52_d2.jpg  \n",
            "  inflating: dataset_train/level_1/background/51_d3.jpg  \n",
            "  inflating: dataset_train/level_1/background/51_d2.jpg  \n",
            "  inflating: dataset_train/level_1/background/50_d3.jpg  \n",
            "  inflating: dataset_train/level_1/background/50_d2.jpg  \n",
            "  inflating: dataset_train/level_1/background/5_d3.jpg  \n",
            "  inflating: dataset_train/level_1/background/5_d2.jpg  \n",
            "  inflating: dataset_train/level_1/background/49_d3.jpg  \n",
            "  inflating: dataset_train/level_1/background/49_d2.jpg  \n",
            "  inflating: dataset_train/level_1/background/48_d3.jpg  \n",
            "  inflating: dataset_train/level_1/background/48_d2.jpg  \n",
            "  inflating: dataset_train/level_1/background/47_d3.jpg  \n",
            "  inflating: dataset_train/level_1/background/47_d2.jpg  \n",
            "  inflating: dataset_train/level_1/background/45_d3.jpg  \n",
            "  inflating: dataset_train/level_1/background/45_d2.jpg  \n",
            "  inflating: dataset_train/level_1/background/44_d3.jpg  \n",
            "  inflating: dataset_train/level_1/background/44_d2.jpg  \n",
            "  inflating: dataset_train/level_1/background/43_d3.jpg  \n",
            "  inflating: dataset_train/level_1/background/43_d2.jpg  \n",
            "  inflating: dataset_train/level_1/background/42_d3.jpg  \n",
            "  inflating: dataset_train/level_1/background/42_d2.jpg  \n",
            "  inflating: dataset_train/level_1/background/41_d3.jpg  \n",
            "  inflating: dataset_train/level_1/background/41_d2.jpg  \n",
            "  inflating: dataset_train/level_1/background/40_d3.jpg  \n",
            "  inflating: dataset_train/level_1/background/40_d2.jpg  \n",
            "  inflating: dataset_train/level_1/background/4_d3.jpg  \n",
            "  inflating: dataset_train/level_1/background/4_d2.jpg  \n",
            "  inflating: dataset_train/level_1/background/39_d3.jpg  \n",
            "  inflating: dataset_train/level_1/background/39_d2.jpg  \n",
            "  inflating: dataset_train/level_1/background/38_d3.jpg  \n",
            "  inflating: dataset_train/level_1/background/38_d2.jpg  \n",
            "  inflating: dataset_train/level_1/background/37_d3.jpg  \n",
            "  inflating: dataset_train/level_1/background/37_d2.jpg  \n",
            "  inflating: dataset_train/level_1/background/36_d3.jpg  \n",
            "  inflating: dataset_train/level_1/background/36_d2.jpg  \n",
            "  inflating: dataset_train/level_1/background/35_d3.jpg  \n",
            "  inflating: dataset_train/level_1/background/35_d2.jpg  \n",
            "  inflating: dataset_train/level_1/background/34_d3.jpg  \n",
            "  inflating: dataset_train/level_1/background/34_d2.jpg  \n",
            "  inflating: dataset_train/level_1/background/33_d3.jpg  \n",
            "  inflating: dataset_train/level_1/background/33_d2.jpg  \n",
            "  inflating: dataset_train/level_1/background/32_d3.jpg  \n",
            "  inflating: dataset_train/level_1/background/32_d2.jpg  \n",
            "  inflating: dataset_train/level_1/background/31_d3.jpg  \n",
            "  inflating: dataset_train/level_1/background/31_d2.jpg  \n",
            "  inflating: dataset_train/level_1/background/30_d3.jpg  \n",
            "  inflating: dataset_train/level_1/background/30_d2.jpg  \n",
            "  inflating: dataset_train/level_1/background/3_d3.jpg  \n",
            "  inflating: dataset_train/level_1/background/3_d2.jpg  \n",
            "  inflating: dataset_train/level_1/background/29_d3.jpg  \n",
            "  inflating: dataset_train/level_1/background/29_d2.jpg  \n",
            "  inflating: dataset_train/level_1/background/28_d3.jpg  \n",
            "  inflating: dataset_train/level_1/background/28_d2.jpg  \n",
            "  inflating: dataset_train/level_1/background/115_d3.jpg  \n",
            "  inflating: dataset_train/level_1/background/115_d2.jpg  \n",
            "  inflating: dataset_train/level_1/background/114_d3.jpg  \n",
            "  inflating: dataset_train/level_1/background/114_d2.jpg  \n",
            "  inflating: dataset_train/level_1/background/113_d3.jpg  \n",
            "  inflating: dataset_train/level_1/background/113_d2.jpg  \n",
            "  inflating: dataset_train/level_1/background/112_d3.jpg  \n",
            "  inflating: dataset_train/level_1/background/112_d2.jpg  \n",
            "  inflating: dataset_train/level_1/background/111_d3.jpg  \n",
            "  inflating: dataset_train/level_1/background/111_d2.jpg  \n",
            "  inflating: dataset_train/level_1/background/110_d3.jpg  \n",
            "  inflating: dataset_train/level_1/background/110_d2.jpg  \n",
            "  inflating: dataset_train/level_1/background/11_d3.jpg  \n",
            "  inflating: dataset_train/level_1/background/11_d2.jpg  \n",
            "  inflating: dataset_train/level_1/background/109_d3.jpg  \n",
            "  inflating: dataset_train/level_1/background/109_d2.jpg  \n",
            "  inflating: dataset_train/level_1/background/108_d3.jpg  \n",
            "  inflating: dataset_train/level_1/background/108_d2.jpg  \n",
            "  inflating: dataset_train/level_1/background/107_d3.jpg  \n",
            "  inflating: dataset_train/level_1/background/107_d2.jpg  \n",
            "  inflating: dataset_train/level_1/background/106_d3.jpg  \n",
            "  inflating: dataset_train/level_1/background/106_d2.jpg  \n",
            "  inflating: dataset_train/level_1/background/105_d3.jpg  \n",
            "  inflating: dataset_train/level_1/background/105_d2.jpg  \n",
            "  inflating: dataset_train/level_1/background/104_d3.jpg  \n",
            "  inflating: dataset_train/level_1/background/104_d2.jpg  \n",
            "  inflating: dataset_train/level_1/background/103_d3.jpg  \n",
            "  inflating: dataset_train/level_1/background/10_d2.jpg  \n",
            "  inflating: dataset_train/level_1/background/1_d3.jpg  \n",
            "  inflating: dataset_train/level_1/background/1_d2.jpg  \n",
            "  inflating: dataset_train/level_1/background/0_d3.jpg  \n",
            "  inflating: dataset_train/level_1/background/0_d2.jpg  \n",
            "  inflating: dataset_train/level_1/background/103_d2.jpg  \n",
            "  inflating: dataset_train/level_1/background/102_d3.jpg  \n",
            "  inflating: dataset_train/level_1/background/102_d2.jpg  \n",
            "  inflating: dataset_train/level_1/background/101_d3.jpg  \n",
            "  inflating: dataset_train/level_1/background/101_d2.jpg  \n",
            "  inflating: dataset_train/level_1/background/100_d3.jpg  \n",
            "  inflating: dataset_train/level_1/background/100_d2.jpg  \n",
            "  inflating: dataset_train/level_1/background/10_d3.jpg  \n",
            "  inflating: dataset_train/level_1/background/149.jpg  \n",
            "  inflating: dataset_train/level_1/background/148.jpg  \n",
            "  inflating: dataset_train/level_1/background/147.jpg  \n",
            "  inflating: dataset_train/level_1/background/146.jpg  \n",
            "  inflating: dataset_train/level_1/background/145.jpg  \n",
            "  inflating: dataset_train/level_1/background/144.jpg  \n",
            "  inflating: dataset_train/level_1/background/143.jpg  \n",
            "  inflating: dataset_train/level_1/background/142.jpg  \n",
            "  inflating: dataset_train/level_1/background/141.jpg  \n",
            "  inflating: dataset_train/level_1/background/140.jpg  \n",
            "  inflating: dataset_train/level_1/background/139.jpg  \n",
            "  inflating: dataset_train/level_1/background/138.jpg  \n",
            "  inflating: dataset_train/level_1/background/137.jpg  \n",
            "  inflating: dataset_train/level_1/background/136.jpg  \n",
            "  inflating: dataset_train/level_1/background/135.jpg  \n",
            "  inflating: dataset_train/level_1/background/134.jpg  \n",
            "  inflating: dataset_train/level_1/background/133.jpg  \n",
            "  inflating: dataset_train/level_1/background/132.jpg  \n",
            "  inflating: dataset_train/level_1/background/131.jpg  \n",
            "  inflating: dataset_train/level_1/background/130.jpg  \n",
            "  inflating: dataset_train/level_1/background/129.jpg  \n",
            "  inflating: dataset_train/level_1/background/128.jpg  \n",
            "  inflating: dataset_train/level_1/background/134_d3.jpg  \n",
            "  inflating: dataset_train/level_1/background/134_d2.jpg  \n",
            "  inflating: dataset_train/level_1/background/133_d3.jpg  \n",
            "  inflating: dataset_train/level_1/background/133_d2.jpg  \n",
            "  inflating: dataset_train/level_1/background/132_d3.jpg  \n",
            "  inflating: dataset_train/level_1/background/132_d2.jpg  \n",
            "  inflating: dataset_train/level_1/background/131_d3.jpg  \n",
            "  inflating: dataset_train/level_1/background/131_d2.jpg  \n",
            "  inflating: dataset_train/level_1/background/130_d3.jpg  \n",
            "  inflating: dataset_train/level_1/background/130_d2.jpg  \n",
            "  inflating: dataset_train/level_1/background/13_d3.jpg  \n",
            "  inflating: dataset_train/level_1/background/13_d2.jpg  \n",
            "  inflating: dataset_train/level_1/background/129_d3.jpg  \n",
            "  inflating: dataset_train/level_1/background/129_d2.jpg  \n",
            "  inflating: dataset_train/level_1/background/128_d3.jpg  \n",
            "  inflating: dataset_train/level_1/background/128_d2.jpg  \n",
            "  inflating: dataset_train/level_1/background/127_d3.jpg  \n",
            "  inflating: dataset_train/level_1/background/127_d2.jpg  \n",
            "  inflating: dataset_train/level_1/background/126_d3.jpg  \n",
            "  inflating: dataset_train/level_1/background/126_d2.jpg  \n",
            "  inflating: dataset_train/level_1/background/125_d3.jpg  \n",
            "  inflating: dataset_train/level_1/background/125_d2.jpg  \n",
            "  inflating: dataset_train/level_1/background/124_d3.jpg  \n",
            "  inflating: dataset_train/level_1/background/124_d2.jpg  \n",
            "  inflating: dataset_train/level_1/background/123_d3.jpg  \n",
            "  inflating: dataset_train/level_1/background/123_d2.jpg  \n",
            "  inflating: dataset_train/level_1/background/122_d3.jpg  \n",
            "  inflating: dataset_train/level_1/background/122_d2.jpg  \n",
            "  inflating: dataset_train/level_1/background/121_d3.jpg  \n",
            "  inflating: dataset_train/level_1/background/121_d2.jpg  \n",
            "  inflating: dataset_train/level_1/background/120_d3.jpg  \n",
            "  inflating: dataset_train/level_1/background/120_d2.jpg  \n",
            "  inflating: dataset_train/level_1/background/12_d3.jpg  \n",
            "  inflating: dataset_train/level_1/background/12_d2.jpg  \n",
            "  inflating: dataset_train/level_1/background/119_d3.jpg  \n",
            "  inflating: dataset_train/level_1/background/119_d2.jpg  \n",
            "  inflating: dataset_train/level_1/background/118_d3.jpg  \n",
            "  inflating: dataset_train/level_1/background/118_d2.jpg  \n",
            "  inflating: dataset_train/level_1/background/117_d3.jpg  \n",
            "  inflating: dataset_train/level_1/background/117_d2.jpg  \n",
            "  inflating: dataset_train/level_1/background/99_d3.jpg  \n",
            "  inflating: dataset_train/level_1/background/99_d2.jpg  \n",
            "  inflating: dataset_train/level_1/background/98_d3.jpg  \n",
            "  inflating: dataset_train/level_1/background/98_d2.jpg  \n",
            "  inflating: dataset_train/level_1/background/97_d3.jpg  \n",
            "  inflating: dataset_train/level_1/background/97_d2.jpg  \n",
            "  inflating: dataset_train/level_1/background/96_d3.jpg  \n",
            "  inflating: dataset_train/level_1/background/96_d2.jpg  \n",
            "  inflating: dataset_train/level_1/background/95_d3.jpg  \n",
            "  inflating: dataset_train/level_1/background/95_d2.jpg  \n",
            "  inflating: dataset_train/level_1/background/94_d3.jpg  \n",
            "  inflating: dataset_train/level_1/background/94_d2.jpg  \n",
            "  inflating: dataset_train/level_1/background/93_d3.jpg  \n",
            "  inflating: dataset_train/level_1/background/93_d2.jpg  \n",
            "  inflating: dataset_train/level_1/background/92_d3.jpg  \n",
            "  inflating: dataset_train/level_1/background/92_d2.jpg  \n",
            "  inflating: dataset_train/level_1/background/91_d3.jpg  \n",
            "  inflating: dataset_train/level_1/background/91_d2.jpg  \n",
            "  inflating: dataset_train/level_1/background/90_d3.jpg  \n",
            "  inflating: dataset_train/level_1/background/90_d2.jpg  \n",
            "  inflating: dataset_train/level_1/background/9_d3.jpg  \n",
            "  inflating: dataset_train/level_1/background/9_d2.jpg  \n",
            "  inflating: dataset_train/level_1/background/89_d3.jpg  \n",
            "  inflating: dataset_train/level_1/background/89_d2.jpg  \n",
            "  inflating: dataset_train/level_1/background/88_d3.jpg  \n",
            "  inflating: dataset_train/level_1/background/88_d2.jpg  \n",
            "  inflating: dataset_train/level_1/background/87_d3.jpg  \n",
            "  inflating: dataset_train/level_1/background/87_d2.jpg  \n",
            "  inflating: dataset_train/level_1/background/86_d3.jpg  \n",
            "  inflating: dataset_train/level_1/background/86_d2.jpg  \n",
            "  inflating: dataset_train/level_1/background/85_d3.jpg  \n",
            "  inflating: dataset_train/level_1/background/85_d2.jpg  \n",
            "  inflating: dataset_train/level_1/background/84_d3.jpg  \n",
            "  inflating: dataset_train/level_1/background/84_d2.jpg  \n",
            "  inflating: dataset_train/level_1/background/83_d3.jpg  \n",
            "  inflating: dataset_train/level_1/background/83_d2.jpg  \n",
            "  inflating: dataset_train/level_1/background/82_d3.jpg  \n",
            "  inflating: dataset_train/level_1/background/82_d2.jpg  \n",
            "  inflating: dataset_train/level_1/background/81_d3.jpg  \n",
            "  inflating: dataset_train/level_1/background/81_d2.jpg  \n",
            "  inflating: dataset_train/level_1/background/80_d3.jpg  \n",
            "  inflating: dataset_train/level_1/background/80_d2.jpg  \n",
            "  inflating: dataset_train/level_1/background/8_d3.jpg  \n",
            "  inflating: dataset_train/level_1/background/8_d2.jpg  \n",
            "  inflating: dataset_train/level_1/background/79_d3.jpg  \n",
            "  inflating: dataset_train/level_1/background/79_d2.jpg  \n",
            "  inflating: dataset_train/level_1/background/78_d3.jpg  \n",
            "  inflating: dataset_train/level_1/background/78_d2.jpg  \n",
            "  inflating: dataset_train/level_1/background/77_d3.jpg  \n",
            "  inflating: dataset_train/level_1/background/77_d2.jpg  \n",
            "  inflating: dataset_train/level_1/background/76_d3.jpg  \n",
            "  inflating: dataset_train/level_1/background/76_d2.jpg  \n",
            "  inflating: dataset_train/level_1/background/75_d3.jpg  \n",
            "  inflating: dataset_train/level_1/background/75_d2.jpg  \n",
            "  inflating: dataset_train/level_1/background/74_d3.jpg  \n",
            "  inflating: dataset_train/level_1/background/74_d2.jpg  \n",
            "  inflating: dataset_train/level_1/background/73_d3.jpg  \n",
            "  inflating: dataset_train/level_1/background/73_d2.jpg  \n",
            "  inflating: dataset_train/level_1/background/72_d3.jpg  \n",
            "  inflating: dataset_train/level_1/background/72_d2.jpg  \n",
            "  inflating: dataset_train/level_1/background/71_d3.jpg  \n",
            "  inflating: dataset_train/level_1/background/71_d2.jpg  \n",
            "  inflating: dataset_train/level_1/background/70_d3.jpg  \n",
            "  inflating: dataset_train/level_1/background/70_d2.jpg  \n",
            "  inflating: dataset_train/level_1/background/7_d3.jpg  \n",
            "  inflating: dataset_train/level_1/background/7_d2.jpg  \n",
            "  inflating: dataset_train/level_1/background/69_d3.jpg  \n",
            "  inflating: dataset_train/level_1/background/69_d2.jpg  \n",
            "  inflating: dataset_train/level_1/background/68_d3.jpg  \n",
            "  inflating: dataset_train/level_1/background/68_d2.jpg  \n",
            "  inflating: dataset_train/level_1/background/67_d3.jpg  \n",
            "  inflating: dataset_train/level_1/background/67_d2.jpg  \n",
            "  inflating: dataset_train/level_1/background/66_d3.jpg  \n",
            "  inflating: dataset_train/level_1/background/66_d2.jpg  \n",
            "  inflating: dataset_train/level_1/background/64_d3.jpg  \n",
            "  inflating: dataset_train/level_1/background/64_d2.jpg  \n",
            "  inflating: dataset_train/level_1/background/63_d3.jpg  \n",
            "  inflating: dataset_train/level_1/background/63_d2.jpg  \n",
            "  inflating: dataset_train/level_1/background/62_d3.jpg  \n",
            "  inflating: dataset_train/level_1/background/62_d2.jpg  \n",
            "  inflating: dataset_train/level_1/background/61_d3.jpg  \n",
            "  inflating: dataset_train/level_1/background/61_d2.jpg  \n",
            "  inflating: dataset_train/level_1/background/60_d3.jpg  \n",
            "  inflating: dataset_train/level_1/background/60_d2.jpg  \n",
            "  inflating: dataset_train/level_1/background/6_d3.jpg  \n",
            "  inflating: dataset_train/level_1/background/6_d2.jpg  \n",
            "  inflating: dataset_train/level_1/background/59_d3.jpg  \n",
            "  inflating: dataset_train/level_1/background/59_d2.jpg  \n",
            "  inflating: dataset_train/level_1/background/26_d3.jpg  \n",
            "  inflating: dataset_train/level_1/background/26_d2.jpg  \n",
            "  inflating: dataset_train/level_1/background/25_d3.jpg  \n",
            "  inflating: dataset_train/level_1/background/25_d2.jpg  \n",
            "  inflating: dataset_train/level_1/background/24_d3.jpg  \n",
            "  inflating: dataset_train/level_1/background/24_d2.jpg  \n",
            "  inflating: dataset_train/level_1/background/23_d3.jpg  \n",
            "  inflating: dataset_train/level_1/background/23_d2.jpg  \n",
            "  inflating: dataset_train/level_1/background/22_d3.jpg  \n",
            "  inflating: dataset_train/level_1/background/22_d2.jpg  \n",
            "  inflating: dataset_train/level_1/background/21_d3.jpg  \n",
            "  inflating: dataset_train/level_1/background/21_d2.jpg  \n",
            "  inflating: dataset_train/level_1/background/20_d3.jpg  \n",
            "  inflating: dataset_train/level_1/background/20_d2.jpg  \n",
            "  inflating: dataset_train/level_1/background/2_d3.jpg  \n",
            "  inflating: dataset_train/level_1/background/2_d2.jpg  \n",
            "  inflating: dataset_train/level_1/background/19_d3.jpg  \n",
            "  inflating: dataset_train/level_1/background/19_d2.jpg  \n",
            "  inflating: dataset_train/level_1/background/18_d3.jpg  \n",
            "  inflating: dataset_train/level_1/background/18_d2.jpg  \n",
            "  inflating: dataset_train/level_1/background/17_d3.jpg  \n",
            "  inflating: dataset_train/level_1/background/17_d2.jpg  \n",
            "  inflating: dataset_train/level_1/background/16_d3.jpg  \n",
            "  inflating: dataset_train/level_1/background/16_d2.jpg  \n",
            "  inflating: dataset_train/level_1/background/15_d3.jpg  \n",
            "  inflating: dataset_train/level_1/background/15_d2.jpg  \n",
            "  inflating: dataset_train/level_1/background/149_d3.jpg  \n",
            "  inflating: dataset_train/level_1/background/149_d2.jpg  \n",
            "  inflating: dataset_train/level_1/background/148_d3.jpg  \n",
            "  inflating: dataset_train/level_1/background/148_d2.jpg  \n",
            "  inflating: dataset_train/level_1/background/147_d3.jpg  \n",
            "  inflating: dataset_train/level_1/background/147_d2.jpg  \n",
            "  inflating: dataset_train/level_1/background/146_d3.jpg  \n",
            "  inflating: dataset_train/level_1/background/146_d2.jpg  \n",
            "  inflating: dataset_train/level_1/background/145_d3.jpg  \n",
            "  inflating: dataset_train/level_1/background/145_d2.jpg  \n",
            "  inflating: dataset_train/level_1/background/144_d3.jpg  \n",
            "  inflating: dataset_train/level_1/background/144_d2.jpg  \n",
            "  inflating: dataset_train/level_1/background/143_d3.jpg  \n",
            "  inflating: dataset_train/level_1/background/143_d2.jpg  \n",
            "  inflating: dataset_train/level_1/background/142_d3.jpg  \n",
            "  inflating: dataset_train/level_1/background/142_d2.jpg  \n",
            "  inflating: dataset_train/level_1/background/141_d3.jpg  \n",
            "  inflating: dataset_train/level_1/background/141_d2.jpg  \n",
            "  inflating: dataset_train/level_1/background/140_d3.jpg  \n",
            "  inflating: dataset_train/level_1/background/140_d2.jpg  \n",
            "  inflating: dataset_train/level_1/background/14_d3.jpg  \n",
            "  inflating: dataset_train/level_1/background/14_d2.jpg  \n",
            "  inflating: dataset_train/level_1/background/139_d3.jpg  \n",
            "  inflating: dataset_train/level_1/background/139_d2.jpg  \n",
            "  inflating: dataset_train/level_1/background/138_d3.jpg  \n",
            "  inflating: dataset_train/level_1/background/138_d2.jpg  \n",
            "  inflating: dataset_train/level_1/background/137_d3.jpg  \n",
            "  inflating: dataset_train/level_1/background/137_d2.jpg  \n",
            "  inflating: dataset_train/level_1/background/136_d3.jpg  \n",
            "  inflating: dataset_train/level_1/background/136_d2.jpg  \n",
            "  inflating: dataset_train/level_1/background/65_d3.jpg  \n",
            "  inflating: dataset_train/level_1/background/65_d2.jpg  \n",
            "  inflating: dataset_train/level_1/background/46_d3.jpg  \n",
            "  inflating: dataset_train/level_1/background/46_d2.jpg  \n",
            "  inflating: dataset_train/level_1/background/27_d3.jpg  \n",
            "  inflating: dataset_train/level_1/background/27_d2.jpg  \n",
            "  inflating: dataset_train/level_1/background/135_d3.jpg  \n",
            "  inflating: dataset_train/level_1/background/135_d2.jpg  \n",
            "  inflating: dataset_train/level_1/background/116_d3.jpg  \n",
            "  inflating: dataset_train/level_1/background/116_d2.jpg  \n"
          ],
          "name": "stdout"
        }
      ]
    },
    {
      "metadata": {
        "id": "oRq8-6oUuJ35",
        "colab_type": "code",
        "colab": {}
      },
      "cell_type": "code",
      "source": [
        "!unzip \"/content/gdrive/My Drive/dataset_test.zip\""
      ],
      "execution_count": 0,
      "outputs": []
    },
    {
      "metadata": {
        "id": "KyRq51N5Paif",
        "colab_type": "text"
      },
      "cell_type": "markdown",
      "source": [
        "# Convert and store each images as dictionary {index:array}"
      ]
    },
    {
      "metadata": {
        "id": "iNzT5Yq12kKS",
        "colab_type": "code",
        "outputId": "739a3d8f-b4f1-4e7a-82ca-24b942db9d48",
        "colab": {
          "base_uri": "https://localhost:8080/",
          "height": 298
        }
      },
      "cell_type": "code",
      "source": [
        "!pip install --force https://github.com/chengs/tqdm/archive/colab.zip"
      ],
      "execution_count": 0,
      "outputs": [
        {
          "output_type": "stream",
          "text": [
            "Collecting https://github.com/chengs/tqdm/archive/colab.zip\n",
            "  Downloading https://github.com/chengs/tqdm/archive/colab.zip\n",
            "\u001b[K     | 481kB 10.5MB/s\n",
            "Building wheels for collected packages: tqdm\n",
            "  Building wheel for tqdm (setup.py) ... \u001b[?25ldone\n",
            "\u001b[?25h  Stored in directory: /tmp/pip-ephem-wheel-cache-vhvgbu9l/wheels/41/18/ee/d5dd158441b27965855b1bbae03fa2d8a91fe645c01b419896\n",
            "Successfully built tqdm\n",
            "\u001b[31mspacy 2.0.18 has requirement numpy>=1.15.0, but you'll have numpy 1.14.6 which is incompatible.\u001b[0m\n",
            "\u001b[31mfeaturetools 0.4.1 has requirement pandas>=0.23.0, but you'll have pandas 0.22.0 which is incompatible.\u001b[0m\n",
            "\u001b[31mfastai 1.0.46 has requirement numpy>=1.15, but you'll have numpy 1.14.6 which is incompatible.\u001b[0m\n",
            "Installing collected packages: tqdm\n",
            "  Found existing installation: tqdm 4.28.1\n",
            "    Uninstalling tqdm-4.28.1:\n",
            "      Successfully uninstalled tqdm-4.28.1\n",
            "Successfully installed tqdm-4.28.1\n"
          ],
          "name": "stdout"
        }
      ]
    },
    {
      "metadata": {
        "id": "DHFKdmkt2lZr",
        "colab_type": "code",
        "colab": {}
      },
      "cell_type": "code",
      "source": [
        "from tqdm import tqdm_notebook"
      ],
      "execution_count": 0,
      "outputs": []
    },
    {
      "metadata": {
        "id": "0-VVOOt8KtpZ",
        "colab_type": "text"
      },
      "cell_type": "markdown",
      "source": [
        "Understand 2"
      ]
    },
    {
      "metadata": {
        "id": "klmBbFHv23Hy",
        "colab_type": "code",
        "outputId": "a346a706-253e-4b32-d040-dc4ee6298e92",
        "colab": {
          "base_uri": "https://localhost:8080/",
          "height": 109
        }
      },
      "cell_type": "code",
      "source": [
        "for i in tqdm_notebook(range(10000000), total=10000000, unit=\"epoch\"):\n",
        "  x=10000\n",
        "  y=x*x*x*x*x"
      ],
      "execution_count": 0,
      "outputs": [
        {
          "output_type": "stream",
          "text": [
            "/usr/local/lib/python3.6/dist-packages/tqdm/_tqdm_notebook.py:88: TqdmExperimentalWarning: Detect Google Colab 0.0.1a2 and thus load dummy ipywidgets package. Note that UI is different from that in Jupyter. See https://github.com/tqdm/tqdm/pull/640\n",
            "  \" See https://github.com/tqdm/tqdm/pull/640\".format(colab.__version__), TqdmExperimentalWarning)\n"
          ],
          "name": "stderr"
        },
        {
          "output_type": "display_data",
          "data": {
            "text/html": [
              "<div style=\"display:flex;flex-direction:row;\"><span></span><progress style='margin:2px 4px;' max='10000000' value='10000000'></progress>100% 10000000/10000000 [00:06&lt;00:00, 1530624.82epoch/s]</div>"
            ],
            "text/plain": [
              "<tqdm._fake_ipywidgets.HBox object>"
            ]
          },
          "metadata": {
            "tags": []
          }
        },
        {
          "output_type": "stream",
          "text": [
            "\n"
          ],
          "name": "stdout"
        }
      ]
    },
    {
      "metadata": {
        "id": "RrklK3gnKvZG",
        "colab_type": "text"
      },
      "cell_type": "markdown",
      "source": [
        "----------------------------------------------------------------------------------------------------------------------"
      ]
    },
    {
      "metadata": {
        "id": "SqkMIM0B5_5i",
        "colab_type": "code",
        "colab": {}
      },
      "cell_type": "code",
      "source": [
        "from PIL import Image, ImageFilter\n",
        "import numpy as np"
      ],
      "execution_count": 0,
      "outputs": []
    },
    {
      "metadata": {
        "id": "OTHAwqCOKH2-",
        "colab_type": "text"
      },
      "cell_type": "markdown",
      "source": [
        "Understand 1"
      ]
    },
    {
      "metadata": {
        "id": "1aF2tfx-9uaq",
        "colab_type": "code",
        "colab": {}
      },
      "cell_type": "code",
      "source": [
        "img= Image.open('index.png')\n",
        "image_a=np.array(img)          #rows, columns, color channels)\n",
        "print(image_a[0,0])       # there are 200 rows, 400 columns and each A[i,j] contains [height,width,color]\n",
        "print(image_a.shape)"
      ],
      "execution_count": 0,
      "outputs": []
    },
    {
      "metadata": {
        "id": "5OvyjVYSKTj3",
        "colab_type": "text"
      },
      "cell_type": "markdown",
      "source": [
        "------------------------------------------------------------------------------------------------------"
      ]
    },
    {
      "metadata": {
        "id": "ThU6-MbWw4H0",
        "colab_type": "code",
        "colab": {}
      },
      "cell_type": "code",
      "source": [
        "import os"
      ],
      "execution_count": 0,
      "outputs": []
    },
    {
      "metadata": {
        "id": "SdJu-_iJwIZL",
        "colab_type": "code",
        "colab": {}
      },
      "cell_type": "code",
      "source": [
        "def read_all(folder_path,key_prefix=\"\"):\n",
        "  \n",
        "  print(\"reading:\")\n",
        "  \n",
        "  images={}\n",
        "  \n",
        "  files = sorted(os.listdir(folder_path))    # os.listdir is an os independent function that Return a list containing the names of the entries in the directory given by path.\n",
        "  \n",
        "  for i,file_name in tqdm_notebook(enumerate(files), total=len(files)):   # enumerate adds a numerical index to files\n",
        "    print(file_name)\n",
        "    file_path = os.path.join(folder_path,file_name)   #dataset_train/level_1/background/0.jpg\n",
        "    \n",
        "    image_index = key_prefix+file_name[:-4]  #bgr_0\n",
        "    \n",
        "    image = Image.open(file_path)\n",
        "    \n",
        "    image = image.convert(\"L\") # L mode for black and white\n",
        "    \n",
        "    images[image_index] = np.array(image.copy()).flatten()    # Explained in Understand 1\n",
        "    # copy duplicates the image, so that the original one is retained\n",
        "    #flatten in a 1d array\n",
        "    \n",
        "    image.close() # closes the file pointer Closes the file pointer, if possible. This operation will destroy the image core and release its memory. The image data will be unusable afterward.\n",
        "    # anyways, a copy of each image is stored in dictionary, so we dont need\n",
        "  #print(type(images))\n",
        "  return images"
      ],
      "execution_count": 0,
      "outputs": []
    },
    {
      "metadata": {
        "id": "AGv3eBIGuSMl",
        "colab_type": "code",
        "colab": {}
      },
      "cell_type": "code",
      "source": [
        "languages = ['ta','hi','en']\n",
        "\n",
        "images_train = read_all(\"dataset_train/level_1/background\", key_prefix='bgr_')\n",
        "\n",
        "print(type(images_train))\n",
        "\n",
        "for language in languages:\n",
        "  \n",
        "  images_train.update(read_all(\"dataset_train/level_1/\"+language,key_prefix=language+\"_\"))\n",
        "\n",
        "print(len(images_train))"
      ],
      "execution_count": 0,
      "outputs": []
    },
    {
      "metadata": {
        "id": "BKsna5ASRTxl",
        "colab_type": "code",
        "outputId": "15627f87-0fc8-42f4-a211-988838e40ac7",
        "colab": {
          "base_uri": "https://localhost:8080/",
          "height": 34
        }
      },
      "cell_type": "code",
      "source": [
        "list(images_train.keys())[:5]"
      ],
      "execution_count": 0,
      "outputs": [
        {
          "output_type": "execute_result",
          "data": {
            "text/plain": [
              "['bgr_0', 'bgr_0_d2', 'bgr_0_d3', 'bgr_1', 'bgr_10']"
            ]
          },
          "metadata": {
            "tags": []
          },
          "execution_count": 14
        }
      ]
    },
    {
      "metadata": {
        "id": "kblib31iO6S6",
        "colab_type": "code",
        "colab": {}
      },
      "cell_type": "code",
      "source": [
        "images_test = read_all(\"dataset_test/kaggle_level_1\",key_prefix='')\n",
        "print(len(images_test))"
      ],
      "execution_count": 0,
      "outputs": []
    },
    {
      "metadata": {
        "id": "bfZCG2hkPMNB",
        "colab_type": "code",
        "outputId": "31c7f14a-c6c0-4d19-f6bd-287aca0c1a82",
        "colab": {
          "base_uri": "https://localhost:8080/",
          "height": 34
        }
      },
      "cell_type": "code",
      "source": [
        "list(images_test.keys())[:5]"
      ],
      "execution_count": 0,
      "outputs": [
        {
          "output_type": "execute_result",
          "data": {
            "text/plain": [
              "['0', '1', '10', '100', '101']"
            ]
          },
          "metadata": {
            "tags": []
          },
          "execution_count": 11
        }
      ]
    },
    {
      "metadata": {
        "id": "JRPjth4ePSbV",
        "colab_type": "code",
        "colab": {}
      },
      "cell_type": "code",
      "source": [
        "X_train=[]\n",
        "Y_train=[]\n",
        "\n",
        "for key,value in images_train.items():\n",
        "  \n",
        "  X_train.append(value)\n",
        "  if key[:4] == \"bgr_\" :   # creating Output\n",
        "    Y_train.append(0)            # set y=0 if its a blank image( bgr images are all blank)\n",
        "  else:\n",
        "    Y_train.append(1)\n",
        "\n",
        "ID_test = []\n",
        "X_test = []\n",
        "\n",
        "for key,values in images_test.items():\n",
        "    \n",
        "  ID_test.append(int(key))\n",
        "  print(key)\n",
        "  X_test.append(values)\n",
        "  \n",
        "X_train = np.array(X_train)\n",
        "Y_train = np.array(Y_train)\n",
        "\n",
        "X_test = np.array(X_test)\n",
        "\n",
        "print(X_train.shape,Y_train.shape)   #(900, 256) (900,)\n",
        "print(X_test.shape)   #(300, 256)    why 256?  see Understand 3"
      ],
      "execution_count": 0,
      "outputs": []
    },
    {
      "metadata": {
        "id": "4Ahw-DWobsSI",
        "colab_type": "text"
      },
      "cell_type": "markdown",
      "source": [
        "Understand 3\n",
        "\n",
        "Each primary color gets 8 bits, or one byte, in the color representation to describe how much of it there is in the color.\n",
        "\n",
        "8 bits or one byte can store a number between 0 and 255, and no more than that. 255 is the largest number you can store in 8 bits. represented as 11111111 binary or FF hexadecimal."
      ]
    },
    {
      "metadata": {
        "id": "ZnoMK0Exb26E",
        "colab_type": "text"
      },
      "cell_type": "markdown",
      "source": [
        "-----------------------------------------------------------------------------------------------------------------------"
      ]
    },
    {
      "metadata": {
        "id": "KDnUBnOLZcas",
        "colab_type": "code",
        "outputId": "5212659d-cb23-4286-f210-bcdd2d2149a9",
        "colab": {
          "base_uri": "https://localhost:8080/",
          "height": 139
        }
      },
      "cell_type": "code",
      "source": [
        "print(X_train)"
      ],
      "execution_count": 0,
      "outputs": [
        {
          "output_type": "stream",
          "text": [
            "[[255 255 255 ... 255 255 255]\n",
            " [255 255 255 ... 255 255 255]\n",
            " [255 255 255 ... 255 255 255]\n",
            " ...\n",
            " [255 253 254 ... 255 255 255]\n",
            " [255 242 254 ... 255 255 255]\n",
            " [255 240 255 ... 255 255 255]]\n"
          ],
          "name": "stdout"
        }
      ]
    },
    {
      "metadata": {
        "id": "o2Bhv9tyufBi",
        "colab_type": "code",
        "outputId": "0a30754b-ddd7-4062-ce53-0bb277e3e151",
        "colab": {
          "base_uri": "https://localhost:8080/",
          "height": 139
        }
      },
      "cell_type": "code",
      "source": [
        "print(X_test)"
      ],
      "execution_count": 0,
      "outputs": [
        {
          "output_type": "stream",
          "text": [
            "[[255 251 255 ... 241 252 254]\n",
            " [255 255 255 ... 255 255 255]\n",
            " [255 240 252 ... 247 255 255]\n",
            " ...\n",
            " [255 255 255 ... 255 255 255]\n",
            " [255 231 252 ... 250 255 250]\n",
            " [252 254 234 ... 244 249 255]]\n"
          ],
          "name": "stdout"
        }
      ]
    },
    {
      "metadata": {
        "id": "iWyPmnsRcMRb",
        "colab_type": "text"
      },
      "cell_type": "markdown",
      "source": [
        "# Standardization"
      ]
    },
    {
      "metadata": {
        "id": "k0K7a3WscUxV",
        "colab_type": "code",
        "colab": {}
      },
      "cell_type": "code",
      "source": [
        "from sklearn.preprocessing import StandardScaler  #Scaler  not scalar\n"
      ],
      "execution_count": 0,
      "outputs": []
    },
    {
      "metadata": {
        "id": "5z3tYPZTcITz",
        "colab_type": "text"
      },
      "cell_type": "markdown",
      "source": [
        "scaler = StandardScaler()\n",
        "X_scaled_train = scaler.fit_transform(X_train)\n",
        "X_scaled_test = scaler.transform(X_test)"
      ]
    },
    {
      "metadata": {
        "id": "-QeWFAEwcJT4",
        "colab_type": "code",
        "colab": {}
      },
      "cell_type": "code",
      "source": [
        "scaler = StandardScaler()"
      ],
      "execution_count": 0,
      "outputs": []
    },
    {
      "metadata": {
        "id": "J2z8Se9hdNas",
        "colab_type": "code",
        "outputId": "e695c6ec-75f9-4c30-810d-92689b3a7bd7",
        "colab": {
          "base_uri": "https://localhost:8080/",
          "height": 106
        }
      },
      "cell_type": "code",
      "source": [
        "X_train_scaled = scaler.fit_transform(X_train)\n"
      ],
      "execution_count": 0,
      "outputs": [
        {
          "output_type": "stream",
          "text": [
            "/usr/local/lib/python3.6/dist-packages/sklearn/utils/validation.py:595: DataConversionWarning: Data with input dtype uint8 was converted to float64 by StandardScaler.\n",
            "  warnings.warn(msg, DataConversionWarning)\n",
            "/usr/local/lib/python3.6/dist-packages/sklearn/utils/validation.py:595: DataConversionWarning: Data with input dtype uint8 was converted to float64 by StandardScaler.\n",
            "  warnings.warn(msg, DataConversionWarning)\n"
          ],
          "name": "stderr"
        }
      ]
    },
    {
      "metadata": {
        "id": "4nA8W4ydptzv",
        "colab_type": "code",
        "outputId": "3dfbec10-06a1-4209-e03f-75ab35d088e0",
        "colab": {
          "base_uri": "https://localhost:8080/",
          "height": 72
        }
      },
      "cell_type": "code",
      "source": [
        "X_test_scaled = scaler.transform(X_test)"
      ],
      "execution_count": 0,
      "outputs": [
        {
          "output_type": "stream",
          "text": [
            "/usr/local/lib/python3.6/dist-packages/sklearn/utils/validation.py:595: DataConversionWarning: Data with input dtype uint8 was converted to float64 by StandardScaler.\n",
            "  warnings.warn(msg, DataConversionWarning)\n"
          ],
          "name": "stderr"
        }
      ]
    },
    {
      "metadata": {
        "id": "2QNlSlOed5gr",
        "colab_type": "code",
        "outputId": "a44db245-f8eb-4554-e21a-9ff6d1bf1baa",
        "colab": {
          "base_uri": "https://localhost:8080/",
          "height": 243
        }
      },
      "cell_type": "code",
      "source": [
        "print(X_train_scaled)    #values got scaled to 0-1"
      ],
      "execution_count": 0,
      "outputs": [
        {
          "output_type": "stream",
          "text": [
            "[[ 0.20057691  0.23965259  0.27398242 ...  0.22995479  0.20814617\n",
            "   0.20477449]\n",
            " [ 0.20057691  0.23965259  0.27398242 ...  0.22995479  0.20814617\n",
            "   0.20477449]\n",
            " [ 0.20057691  0.23965259  0.27398242 ...  0.22995479  0.20814617\n",
            "   0.20477449]\n",
            " ...\n",
            " [ 0.20057691  0.18449664  0.25309076 ...  0.22995479  0.20814617\n",
            "   0.20477449]\n",
            " [ 0.20057691 -0.11886107  0.25309076 ...  0.22995479  0.20814617\n",
            "   0.20477449]\n",
            " [ 0.20057691 -0.17401701  0.27398242 ...  0.22995479  0.20814617\n",
            "   0.20477449]]\n"
          ],
          "name": "stdout"
        }
      ]
    },
    {
      "metadata": {
        "id": "zXhKDG6TebjM",
        "colab_type": "code",
        "outputId": "61bd5889-de6f-41c8-fe6c-80dacbc74e67",
        "colab": {
          "base_uri": "https://localhost:8080/",
          "height": 139
        }
      },
      "cell_type": "code",
      "source": [
        "print(X_train)"
      ],
      "execution_count": 0,
      "outputs": [
        {
          "output_type": "stream",
          "text": [
            "[[255 255 255 ... 255 255 255]\n",
            " [255 255 255 ... 255 255 255]\n",
            " [255 255 255 ... 255 255 255]\n",
            " ...\n",
            " [255 253 254 ... 255 255 255]\n",
            " [255 242 254 ... 255 255 255]\n",
            " [255 240 255 ... 255 255 255]]\n"
          ],
          "name": "stdout"
        }
      ]
    },
    {
      "metadata": {
        "id": "TKUo6KRTkXQ4",
        "colab_type": "text"
      },
      "cell_type": "markdown",
      "source": [
        "# Sigmoid apply algorithm"
      ]
    },
    {
      "metadata": {
        "id": "z6ZhtWdjkcb_",
        "colab_type": "code",
        "colab": {}
      },
      "cell_type": "code",
      "source": [
        " \n",
        "class SigmoidNeuron:\n",
        "  \n",
        "  def __init__(self):\n",
        "    self.w = None\n",
        "    self.b = None\n",
        "\n",
        "\n",
        "  def grad_w_mse(self, x,y):\n",
        "    y_pred = self.sigmoid(x)\n",
        "    #print(y_pred)\n",
        "    return (y_pred - y) * y_pred * (1 - y_pred) * x\n",
        "  \n",
        "  \n",
        "  def grad_w_ce(self,x,y):\n",
        "    y_pred = self.sigmoid(x)\n",
        "    return (y_pred - y) * x\n",
        "\n",
        "\n",
        "  def grad_b_mse(self,x,y):\n",
        "    y_pred = self.sigmoid(x)\n",
        "    return (y_pred - y) * y_pred * (1 - y_pred)  \n",
        " \n",
        "\n",
        "  def grad_b_ce(self,x,y):\n",
        "    y_pred = self.sigmoid(x)\n",
        "    return (y_pred - y)\n",
        "\n",
        "  def fit(self,X,Y, epochs=1, eta=1,loss_fn = \"mse\"):\n",
        "    print(\"again\")\n",
        "    self.w=np.zeros(X.shape[1])\n",
        "    self.b=0\n",
        "    loss={}\n",
        "\n",
        "    for i in tqdm_notebook(range(epochs), total=epochs, unit=\"epoch\"):\n",
        "      dw=0\n",
        "      db=0\n",
        "      for x,y in zip(X,Y):\n",
        "        if loss_fn==\"mse\":\n",
        "          dw += self.grad_w_mse(x,y)\n",
        "          db += self.grad_b_mse(x,y)\n",
        "        \n",
        "        elif loss_fn==\"ce\":\n",
        "          dw += self.grad_w_ce(x,y)\n",
        "          db += self.grad_b_ce(x,y)\n",
        "        \n",
        "\n",
        "      self.w = self.w - eta*dw\n",
        "      self.b = self.b - eta*db\n",
        "      y_pred=self.sigmoid(X)\n",
        "      \n",
        "      if loss_fn == \"mse\":\n",
        "        loss[i] = self.compute_loss_mse(Y,y_pred)\n",
        "        \n",
        "      elif loss_fn == \"ce\":\n",
        "        loss[i] = self.compute_loss_ce(Y,y_pred)\n",
        "        #print(\"here\")\n",
        "        if i==500 or i==600 or i==700 or i==800 or i==900 or i==1000 or i==1500 or i==1999 or i==2500 or i==3000 or i==3500 or i==3999 or i==4500 or i==4999 or i==5500 or i==5999 or i==6500 or i==6999 or i==7500 or i==7999 or i==8500 or i==8999 or i==9500 or i==9999:\n",
        "          print(i, loss[i])\n",
        "          \n",
        "        #else:\n",
        "         # print(\"did not reach 500 or 1000\")\n",
        "\n",
        "    plt.plot(loss.values(),'*')\n",
        "    plt.xlabel('Epochs')\n",
        "    plt.ylabel('Loss')\n",
        "    plt.show()\n",
        "    return self.w,self.b\n",
        "\n",
        "\n",
        "  def sigmoid(self,X):\n",
        "    return 1/(1 + np.exp(-(np.dot(X,self.w.T) + self.b)))\n",
        "\n",
        "\n",
        "  def compute_loss(self,Y,Y_pred):\n",
        "    loss=0\n",
        "    for y,yp in zip(Y,Y_pred):\n",
        "      loss += np.power((y-yp),2)\n",
        "    return loss/len(Y)\n",
        "\n",
        "  def compute_loss_ce(self,Y,Y_pred):\n",
        "    loss = 0\n",
        "    for y,yp in zip(Y,Y_pred):\n",
        "      loss += -1 * y * np.math.log(yp,2)\n",
        "    return loss"
      ],
      "execution_count": 0,
      "outputs": []
    },
    {
      "metadata": {
        "id": "qFiXCQ_nxPyT",
        "colab_type": "code",
        "colab": {}
      },
      "cell_type": "code",
      "source": [
        "sn = SigmoidNeuron()\n"
      ],
      "execution_count": 0,
      "outputs": []
    },
    {
      "metadata": {
        "id": "WVTv_CQokeEN",
        "colab_type": "code",
        "outputId": "1303db43-8166-4c46-8839-cf666ddcaf52",
        "colab": {
          "base_uri": "https://localhost:8080/",
          "height": 380
        }
      },
      "cell_type": "code",
      "source": [
        "w,b = sn.fit(X_train_scaled,Y_train,epochs = 1000,eta = 0.01)"
      ],
      "execution_count": 0,
      "outputs": [
        {
          "output_type": "stream",
          "text": [
            "again\n"
          ],
          "name": "stdout"
        },
        {
          "output_type": "display_data",
          "data": {
            "image/png": "[encoded data removed]",
            "text/plain": [
              "<Figure size 576x396 with 1 Axes>"
            ]
          },
          "metadata": {
            "tags": []
          }
        }
      ]
    },
    {
      "metadata": {
        "id": "aU1iF4ai48aT",
        "colab_type": "code",
        "colab": {}
      },
      "cell_type": "code",
      "source": [
        "#w,b = sn.fit(X_train_scaled,Y_train,epochs = 10001,eta = 0.01,loss_fn = \"ce\")"
      ],
      "execution_count": 0,
      "outputs": []
    },
    {
      "metadata": {
        "id": "UAo0bkcwq2r5",
        "colab_type": "code",
        "colab": {}
      },
      "cell_type": "code",
      "source": [
        "print(Y_train)"
      ],
      "execution_count": 0,
      "outputs": []
    },
    {
      "metadata": {
        "id": "FBCxY9-RktwQ",
        "colab_type": "code",
        "colab": {}
      },
      "cell_type": "code",
      "source": [
        "Y_pred=[]\n",
        "print(w,b)\n",
        "for x in X_train_scaled:\n",
        "  Y_pred.append(sn.sigmoid(x))"
      ],
      "execution_count": 0,
      "outputs": []
    },
    {
      "metadata": {
        "id": "7djDmBzWqVJ9",
        "colab_type": "code",
        "colab": {}
      },
      "cell_type": "code",
      "source": [
        "y_pred = np.array(Y_pred)\n",
        "print(y_pred)"
      ],
      "execution_count": 0,
      "outputs": []
    },
    {
      "metadata": {
        "id": "qjdE9Cb_rfG0",
        "colab_type": "code",
        "colab": {}
      },
      "cell_type": "code",
      "source": [
        "print(X_test_scaled)"
      ],
      "execution_count": 0,
      "outputs": []
    },
    {
      "metadata": {
        "id": "nouFyLafrnGK",
        "colab_type": "code",
        "colab": {}
      },
      "cell_type": "code",
      "source": [
        "Y_pred_test=[]\n",
        "#print(w,b)\n",
        "for x in X_test_scaled:\n",
        "  #print(x)\n",
        "  Y_pred_test.append(sn.sigmoid(x))\n",
        "\n",
        "Y_pred_test = np.array(Y_pred_test)\n",
        "print(Y_pred_test)"
      ],
      "execution_count": 0,
      "outputs": []
    },
    {
      "metadata": {
        "id": "eyJOFo-9wF6_",
        "colab_type": "code",
        "colab": {}
      },
      "cell_type": "code",
      "source": [
        "Y_pred_test_binarised = list(map( lambda y: 0 if y<0.5 else 1, Y_pred_test))"
      ],
      "execution_count": 0,
      "outputs": []
    },
    {
      "metadata": {
        "id": "DjAokfRTwbTy",
        "colab_type": "code",
        "outputId": "451ec020-777b-4882-e924-2f3df8b6cf1b",
        "colab": {
          "base_uri": "https://localhost:8080/",
          "height": 54
        }
      },
      "cell_type": "code",
      "source": [
        "print(Y_pred_test)"
      ],
      "execution_count": 0,
      "outputs": [
        {
          "output_type": "stream",
          "text": [
            "[1, 0, 1, 0, 0, 0, 1, 0, 0, 0, 0, 0, 1, 0, 0, 0, 0, 0, 1, 1, 1, 0, 0, 1, 1, 1, 1, 0, 1, 0, 1, 0, 0, 1, 1, 0, 0, 0, 1, 0, 0, 0, 0, 0, 1, 1, 1, 0, 0, 0, 1, 1, 1, 0, 0, 0, 1, 0, 0, 1, 0, 0, 1, 0, 0, 0, 0, 1, 1, 0, 1, 0, 0, 0, 0, 1, 1, 0, 0, 1, 1, 1, 1, 0, 0, 0, 1, 0, 0, 0, 0, 1, 0, 0, 1, 1, 1, 1, 0, 1, 0, 1, 0, 0, 1, 0, 0, 1, 1, 0, 0, 0, 1, 1, 0, 1, 0, 1, 1, 1, 0, 1, 1, 1, 1, 0, 1, 1, 1, 1, 0, 1, 0, 0, 0, 0, 0, 0, 0, 1, 0, 1, 0, 0, 0, 0, 1, 0, 1, 0, 1, 1, 1, 1, 0, 1, 1, 1, 1, 0, 0, 1, 1, 1, 1, 0, 0, 1, 0, 1, 1, 1, 1, 1, 0, 1, 0, 0, 0, 1, 0, 0, 1, 1, 0, 1, 1, 1, 0, 0, 0, 0, 1, 1, 1, 1, 0, 0, 0, 0, 0, 0, 1, 1, 0, 1, 0, 0, 0, 0, 1, 0, 1, 0, 1, 1, 0, 1, 0, 0, 0, 1, 0, 1, 1, 1, 0, 1, 1, 0, 1, 0, 0, 1, 1, 0, 1, 0, 0, 0, 1, 1, 0, 0, 1, 0, 0, 1, 0, 0, 1, 0, 1, 0, 1, 0, 0, 0, 1, 0, 0, 1, 1, 0, 1, 1, 0, 0, 1, 0, 1, 1, 1, 1, 1, 1, 1, 0, 0, 1, 0, 0, 0, 1, 1, 0, 1, 1, 0, 1, 1, 0, 1, 1, 0, 0, 0, 0, 0, 0]\n"
          ],
          "name": "stdout"
        }
      ]
    },
    {
      "metadata": {
        "id": "0tXXZz7FuCqn",
        "colab_type": "text"
      },
      "cell_type": "markdown",
      "source": [
        "def print_accuracy(sn):\n",
        "\n",
        "  Y_pred_train = sn.predict(X_scaled_train)\n",
        "\n",
        "Y_pred_binarised_train = (Y_pred_train >= 0.5).astype(\"int\").ravel()\n",
        "\n",
        "accuracy_train = accuracy_score(Y_pred_binarised_train, Y_train)\n",
        "\n",
        "print(\"Train Accuracy : \", accuracy_train)\n",
        "\n",
        "print(\"-\"*50)"
      ]
    },
    {
      "metadata": {
        "id": "wopul4MpznPR",
        "colab_type": "code",
        "colab": {}
      },
      "cell_type": "code",
      "source": [
        "from sklearn.metrics import accuracy_score"
      ],
      "execution_count": 0,
      "outputs": []
    },
    {
      "metadata": {
        "id": "mDY2PIQ6uDTV",
        "colab_type": "code",
        "colab": {}
      },
      "cell_type": "code",
      "source": [
        "def print_accuracy(X):\n",
        "  Y_pred_train = sn.sigmoid(X)\n",
        "  \n",
        "  Y_pred_binarised_train = list(map( lambda y:0 if y<0.5 else 1, Y_pred_train))\n",
        "  \n",
        "  accuracy_train = accuracy_score(Y_pred_binarised_train, Y_train)\n",
        "  print(\"Train Accuracy :\",accuracy_train)"
      ],
      "execution_count": 0,
      "outputs": []
    },
    {
      "metadata": {
        "id": "pTK0TWWjzZuh",
        "colab_type": "code",
        "outputId": "9a9060a6-1f0e-4851-85e6-ecbf5f0968f3",
        "colab": {
          "base_uri": "https://localhost:8080/",
          "height": 34
        }
      },
      "cell_type": "code",
      "source": [
        "print_accuracy(X_train_scaled)"
      ],
      "execution_count": 0,
      "outputs": [
        {
          "output_type": "stream",
          "text": [
            "Train Accuracy : 1.0\n"
          ],
          "name": "stdout"
        }
      ]
    },
    {
      "metadata": {
        "id": "R7ntudmn6FBJ",
        "colab_type": "code",
        "outputId": "4b3d6602-82ec-4636-ed5b-26dfb474a04f",
        "colab": {
          "base_uri": "https://localhost:8080/",
          "height": 34
        }
      },
      "cell_type": "code",
      "source": [
        "print_accuracy(X_train_scaled)"
      ],
      "execution_count": 0,
      "outputs": [
        {
          "output_type": "stream",
          "text": [
            "Train Accuracy : 1.0\n"
          ],
          "name": "stdout"
        }
      ]
    },
    {
      "metadata": {
        "id": "WnLQ4Vbv6PMA",
        "colab_type": "text"
      },
      "cell_type": "markdown",
      "source": [
        "Y_pred_test = sn_ce.predict(X_scaled_test)\n",
        "\n",
        "Y_pred_binarised_test = (Y_pred_test >= 0.5).astype(\"int\").ravel()\n",
        "\n",
        "\n",
        "submission = {}\n",
        "\n",
        "submission['ImageId'] = ID_test\n",
        "\n",
        "submission['Class'] = Y_pred_binarised_test\n",
        "\n",
        "\n",
        "submission = pd.DataFrame(submission)\n",
        "\n",
        "submission = submission[['ImageId', 'Class']]\n",
        "\n",
        "submission = submission.sort_values(['ImageId'])\n",
        "\n",
        "submission.to_csv(\"submisision.csv\", index=False)"
      ]
    },
    {
      "metadata": {
        "id": "N0eU8YND7JXs",
        "colab_type": "code",
        "colab": {}
      },
      "cell_type": "code",
      "source": [
        "import pandas as pd"
      ],
      "execution_count": 0,
      "outputs": []
    },
    {
      "metadata": {
        "id": "xVObU2Lc6Ogg",
        "colab_type": "code",
        "colab": {}
      },
      "cell_type": "code",
      "source": [
        "submission = {}\n",
        "submission['ImageId'] = ID_test\n",
        "submission['Class'] = Y_pred_test_binarised\n",
        "submission = pd.DataFrame(submission)\n",
        "submission = submission[['ImageId','Class']]\n",
        "submission.to_csv(\"submission_Sigmoid_Text_NonText_third.csv\",index=False)\n",
        "#print(submission)"
      ],
      "execution_count": 0,
      "outputs": []
    },
    {
      "metadata": {
        "id": "0sxXiWjrQuY6",
        "colab_type": "text"
      },
      "cell_type": "markdown",
      "source": [
        "# MPNeuron"
      ]
    },
    {
      "metadata": {
        "id": "DacY0m0qROsm",
        "colab_type": "code",
        "colab": {}
      },
      "cell_type": "code",
      "source": [
        "import pandas as pd"
      ],
      "execution_count": 0,
      "outputs": []
    },
    {
      "metadata": {
        "id": "rzhv_VPvRezO",
        "colab_type": "code",
        "colab": {}
      },
      "cell_type": "code",
      "source": [
        "X_train_df=pd.DataFrame(X_train)\n"
      ],
      "execution_count": 0,
      "outputs": []
    },
    {
      "metadata": {
        "id": "kgJhpQdorxax",
        "colab_type": "text"
      },
      "cell_type": "markdown",
      "source": [
        "## Binarisation"
      ]
    },
    {
      "metadata": {
        "id": "FZdPs9ucQv9X",
        "colab_type": "code",
        "colab": {}
      },
      "cell_type": "code",
      "source": [
        "X_train_binarised_df = X_train_df.apply(pd.cut, bins=2, labels=[1,0])\n",
        "Y_train_binarised = Y_train     # y is already binarised"
      ],
      "execution_count": 0,
      "outputs": []
    },
    {
      "metadata": {
        "id": "RuM8vKtdUwhv",
        "colab_type": "code",
        "colab": {}
      },
      "cell_type": "code",
      "source": [
        "print(X_train_binarised_df)"
      ],
      "execution_count": 0,
      "outputs": []
    },
    {
      "metadata": {
        "id": "l7SyNcdpR5nP",
        "colab_type": "code",
        "colab": {}
      },
      "cell_type": "code",
      "source": [
        "X_train_binarised = np.array(X_train_binarised_df)\n",
        "# y is already an array"
      ],
      "execution_count": 0,
      "outputs": []
    },
    {
      "metadata": {
        "id": "gQLyrKhIUkcT",
        "colab_type": "code",
        "outputId": "130c0730-0b26-49be-ae1e-980b42976bf5",
        "colab": {
          "base_uri": "https://localhost:8080/",
          "height": 139
        }
      },
      "cell_type": "code",
      "source": [
        "print(X_train_binarised)"
      ],
      "execution_count": 0,
      "outputs": [
        {
          "output_type": "stream",
          "text": [
            "[[0 0 0 ... 0 0 0]\n",
            " [0 0 0 ... 0 0 0]\n",
            " [0 0 0 ... 0 0 0]\n",
            " ...\n",
            " [0 0 0 ... 0 0 0]\n",
            " [0 0 0 ... 0 0 0]\n",
            " [0 0 0 ... 0 0 0]]\n"
          ],
          "name": "stdout"
        }
      ]
    },
    {
      "metadata": {
        "id": "BmV8U6Y9r1Ms",
        "colab_type": "text"
      },
      "cell_type": "markdown",
      "source": [
        "## MPNeuron Class\n"
      ]
    },
    {
      "metadata": {
        "id": "0srJEdAhS32q",
        "colab_type": "code",
        "colab": {}
      },
      "cell_type": "code",
      "source": [
        "class MPNeuron:\n",
        "  def __init__(self):\n",
        "   \n",
        "  def fit(X,Y):\n",
        "    b=0\n",
        "    max_accuracy=0\n",
        "    for i in range(X_train_binarised.shape[1]+1):\n",
        "      accurate_rows=0\n",
        "      for x,y in zip(X_train_binarised,Y_train_binarised):\n",
        "        y_pred=(np.sum(x)>=i)\n",
        "        if y_pred == y:\n",
        "          accurate_rows+=1\n",
        "      accuracy=(accurate_rows/X_train_binarised.shape[0])\n",
        "      print(i,accuracy)\n",
        "\n",
        "      #print(accuracy)\n",
        "      if accuracy>max_accuracy:\n",
        "        max_accuracy=accuracy\n",
        "        b=i\n",
        "\n",
        "    print(b, max_accuracy)"
      ],
      "execution_count": 0,
      "outputs": []
    },
    {
      "metadata": {
        "id": "6zSRyOOOr6Lx",
        "colab_type": "text"
      },
      "cell_type": "markdown",
      "source": [
        "## Applying on test data"
      ]
    },
    {
      "metadata": {
        "id": "hWb2Gm3YVINv",
        "colab_type": "code",
        "colab": {}
      },
      "cell_type": "code",
      "source": [
        "X_test_df=pd.DataFrame(X_test)\n",
        "X_test_binarised_df = X_test_df.apply(pd.cut, bins=2, labels=[1,0])\n"
      ],
      "execution_count": 0,
      "outputs": []
    },
    {
      "metadata": {
        "id": "MWow0IMlVmAT",
        "colab_type": "code",
        "colab": {}
      },
      "cell_type": "code",
      "source": [
        "X_test_binarised = np.array(X_test_binarised_df)"
      ],
      "execution_count": 0,
      "outputs": []
    },
    {
      "metadata": {
        "id": "orskHbBMVrlP",
        "colab_type": "code",
        "colab": {}
      },
      "cell_type": "code",
      "source": [
        "b=3\n",
        "y_test_mpn=[]\n",
        "for x in zip(X_test_binarised):\n",
        "  \n",
        "  y_pred=int(np.sum(x)>=b)\n",
        "  #print(np.sum(x),b, y_pred)\n",
        "  y_test_mpn.append(y_pred)"
      ],
      "execution_count": 0,
      "outputs": []
    },
    {
      "metadata": {
        "id": "WTUHY5PssA9b",
        "colab_type": "text"
      },
      "cell_type": "markdown",
      "source": [
        "## Submission"
      ]
    },
    {
      "metadata": {
        "id": "FDZTMom1WwKs",
        "colab_type": "code",
        "colab": {}
      },
      "cell_type": "code",
      "source": [
        "submission = {}\n",
        "submission['ImageId'] = ID_test\n",
        "submission['Class'] = y_test_mpn\n",
        "submission = pd.DataFrame(submission)\n",
        "submission = submission[['ImageId','Class']]\n",
        "submission.to_csv(\"submission_mpn_second.csv\",index=False)\n",
        "#print(submission)"
      ],
      "execution_count": 0,
      "outputs": []
    },
    {
      "metadata": {
        "id": "WHC8ZBpHYVGP",
        "colab_type": "text"
      },
      "cell_type": "markdown",
      "source": [
        "# perceptron"
      ]
    },
    {
      "metadata": {
        "id": "CrMp93TdYpCu",
        "colab_type": "code",
        "colab": {}
      },
      "cell_type": "code",
      "source": [
        "class Perceptron:\n",
        "  \n",
        "  \n",
        "  final_w = None\n",
        "  final_b = None\n",
        "  \n",
        "  \n",
        "  def fit(self,X,Y,b=0,lr=1,epochs=1):\n",
        "    accuracy_list={}\n",
        "    w=np.zeros(X.shape[1])\n",
        "    max_accuracy=0\n",
        "    for epoch in tqdm_notebook(range(epochs), total=epochs, unit=\"epoch\"):\n",
        "      for x,y in zip(X,Y):\n",
        "\n",
        "        y_pred=np.dot(x,w.T)\n",
        "\n",
        "        if y_pred<b and y==1:\n",
        "          w = w + x*lr\n",
        "          b = b - 1*lr\n",
        "\n",
        "\n",
        "        elif y_pred>=b and y==0:\n",
        "          w = w - x*lr\n",
        "          b = b + 1*lr\n",
        "\n",
        "\n",
        "\n",
        "      y_train_pred = predict_train(X,w,b)\n",
        "\n",
        "\n",
        "      accuracy=accuracy_score(Y_train,y_train_pred)\n",
        "      #print(accuracy, w, b)\n",
        "      accuracy_list[epoch]=accuracy\n",
        "\n",
        "      if accuracy>max_accuracy:\n",
        "        max_accuracy=accuracy\n",
        "        self.final_b=b\n",
        "        self.final_w=w\n",
        "\n",
        "    plt.plot(accuracy_list.values(),'*')\n",
        "    plt.xlabel('epochs')\n",
        "    plt.ylabel('accuracy')\n",
        "    plt.show()\n",
        "\n",
        "    return max_accuracy\n",
        "  \n",
        "  \n",
        "  \n",
        "  \n",
        "  def predict(self,X):\n",
        "    \n",
        "    y_pred=[]\n",
        "\n",
        "    for x in X:\n",
        "\n",
        "        y=int(np.dot(x,self.final_w.T)>=self.final_b)\n",
        "\n",
        "        y_pred.append(y)\n",
        "      \n",
        "    return y_pred\n",
        "\n",
        "  \n",
        "def predict_train(X,w,b):\n",
        "    \n",
        "    y_pred=[]\n",
        "\n",
        "    for x in X:\n",
        "\n",
        "        y=int(np.dot(x,w.T)>=b)\n",
        "\n",
        "        y_pred.append(y)\n",
        "      \n",
        "    return y_pred  \n",
        "  "
      ],
      "execution_count": 0,
      "outputs": []
    },
    {
      "metadata": {
        "id": "gQBgFYyEYtw8",
        "colab_type": "code",
        "colab": {}
      },
      "cell_type": "code",
      "source": [
        "pr = Perceptron()"
      ],
      "execution_count": 0,
      "outputs": []
    },
    {
      "metadata": {
        "id": "TAeUxQ3QjQGg",
        "colab_type": "code",
        "colab": {}
      },
      "cell_type": "code",
      "source": [
        "from sklearn.metrics import accuracy_score"
      ],
      "execution_count": 0,
      "outputs": []
    },
    {
      "metadata": {
        "id": "GKfBPtXRZXV-",
        "colab_type": "code",
        "outputId": "c6776b81-f334-4ac2-b3cb-9df54af74804",
        "colab": {
          "base_uri": "https://localhost:8080/",
          "height": 416
        }
      },
      "cell_type": "code",
      "source": [
        "accuracy= pr.fit(X_train,Y_train,0,0.01,300)\n",
        "print(accuracy)"
      ],
      "execution_count": 0,
      "outputs": [
        {
          "output_type": "display_data",
          "data": {
            "text/html": [
              "<div style=\"display:flex;flex-direction:row;\"><span></span><progress style='margin:2px 4px;' max='300' value='300'></progress>100% 300/300 [00:01&lt;00:00, 192.06epoch/s]</div>"
            ],
            "text/plain": [
              "<tqdm._fake_ipywidgets.HBox object>"
            ]
          },
          "metadata": {
            "tags": []
          }
        },
        {
          "output_type": "stream",
          "text": [
            "\n"
          ],
          "name": "stdout"
        },
        {
          "output_type": "display_data",
          "data": {
            "image/png": "[encoded data removed]",
            "text/plain": [
              "<Figure size 576x396 with 1 Axes>"
            ]
          },
          "metadata": {
            "tags": []
          }
        },
        {
          "output_type": "stream",
          "text": [
            "1.0\n"
          ],
          "name": "stdout"
        }
      ]
    },
    {
      "metadata": {
        "id": "FVyz6V3qVbgB",
        "colab_type": "code",
        "colab": {}
      },
      "cell_type": "code",
      "source": [
        "Y_test_perceptron = pr.predict(X_test)"
      ],
      "execution_count": 0,
      "outputs": []
    },
    {
      "metadata": {
        "id": "_yUZX8VTjwe_",
        "colab_type": "code",
        "colab": {}
      },
      "cell_type": "code",
      "source": [
        "import pandas as pd"
      ],
      "execution_count": 0,
      "outputs": []
    },
    {
      "metadata": {
        "id": "mSPBhwJrciAY",
        "colab_type": "code",
        "colab": {}
      },
      "cell_type": "code",
      "source": [
        "submission = {}\n",
        "submission['ImageId'] = ID_test\n",
        "submission['Class'] = Y_test_perceptron\n",
        "submission = pd.DataFrame(submission)\n",
        "submission = submission[['ImageId','Class']]\n",
        "submission.to_csv(\"submission_perceptron_level_1_first.csv\",index=False)\n",
        "#print(submission)"
      ],
      "execution_count": 0,
      "outputs": []
    }
  ]
}